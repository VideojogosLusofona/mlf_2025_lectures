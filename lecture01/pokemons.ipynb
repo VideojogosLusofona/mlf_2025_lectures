{
 "cells": [
  {
   "cell_type": "markdown",
   "id": "304b0c06",
   "metadata": {},
   "source": [
    "# Machine Learning Fundamentals - Lecture 01\n",
    "\n",
    "This is the Jupyter notebook for Lecture 01 of the Machine Learning Fundamentals\n",
    "course."
   ]
  },
  {
   "cell_type": "code",
   "execution_count": 160,
   "id": "99f40c69",
   "metadata": {},
   "outputs": [],
   "source": [
    "# Import the required libraries using the commonly use short names (pd, sns, ...)\n",
    "import pandas as pd\n",
    "import seaborn as sns"
   ]
  },
  {
   "cell_type": "code",
   "execution_count": 161,
   "id": "761fb22b",
   "metadata": {},
   "outputs": [
    {
     "data": {
      "application/vnd.microsoft.datawrangler.viewer.v0+json": {
       "columns": [
        {
         "name": "index",
         "rawType": "int64",
         "type": "integer"
        },
        {
         "name": "#",
         "rawType": "int64",
         "type": "integer"
        },
        {
         "name": "Name",
         "rawType": "object",
         "type": "string"
        },
        {
         "name": "Type 1",
         "rawType": "object",
         "type": "string"
        },
        {
         "name": "Type 2",
         "rawType": "object",
         "type": "unknown"
        },
        {
         "name": "Total",
         "rawType": "int64",
         "type": "integer"
        },
        {
         "name": "HP",
         "rawType": "int64",
         "type": "integer"
        },
        {
         "name": "Attack",
         "rawType": "int64",
         "type": "integer"
        },
        {
         "name": "Defense",
         "rawType": "int64",
         "type": "integer"
        },
        {
         "name": "Sp. Atk",
         "rawType": "int64",
         "type": "integer"
        },
        {
         "name": "Sp. Def",
         "rawType": "int64",
         "type": "integer"
        },
        {
         "name": "Speed",
         "rawType": "int64",
         "type": "integer"
        },
        {
         "name": "Generation",
         "rawType": "int64",
         "type": "integer"
        },
        {
         "name": "Legendary",
         "rawType": "bool",
         "type": "boolean"
        }
       ],
       "ref": "1cd5f48c-2ac6-4347-80d8-b728b5fd8dfe",
       "rows": [
        [
         "0",
         "1",
         "Bulbasaur",
         "Grass",
         "Poison",
         "318",
         "45",
         "49",
         "49",
         "65",
         "65",
         "45",
         "1",
         "False"
        ],
        [
         "1",
         "2",
         "Ivysaur",
         "Grass",
         "Poison",
         "405",
         "60",
         "62",
         "63",
         "80",
         "80",
         "60",
         "1",
         "False"
        ],
        [
         "2",
         "3",
         "Venusaur",
         "Grass",
         "Poison",
         "525",
         "80",
         "82",
         "83",
         "100",
         "100",
         "80",
         "1",
         "False"
        ],
        [
         "3",
         "3",
         "VenusaurMega Venusaur",
         "Grass",
         "Poison",
         "625",
         "80",
         "100",
         "123",
         "122",
         "120",
         "80",
         "1",
         "False"
        ],
        [
         "4",
         "4",
         "Charmander",
         "Fire",
         null,
         "309",
         "39",
         "52",
         "43",
         "60",
         "50",
         "65",
         "1",
         "False"
        ]
       ],
       "shape": {
        "columns": 13,
        "rows": 5
       }
      },
      "text/html": [
       "<div>\n",
       "<style scoped>\n",
       "    .dataframe tbody tr th:only-of-type {\n",
       "        vertical-align: middle;\n",
       "    }\n",
       "\n",
       "    .dataframe tbody tr th {\n",
       "        vertical-align: top;\n",
       "    }\n",
       "\n",
       "    .dataframe thead th {\n",
       "        text-align: right;\n",
       "    }\n",
       "</style>\n",
       "<table border=\"1\" class=\"dataframe\">\n",
       "  <thead>\n",
       "    <tr style=\"text-align: right;\">\n",
       "      <th></th>\n",
       "      <th>#</th>\n",
       "      <th>Name</th>\n",
       "      <th>Type 1</th>\n",
       "      <th>Type 2</th>\n",
       "      <th>Total</th>\n",
       "      <th>HP</th>\n",
       "      <th>Attack</th>\n",
       "      <th>Defense</th>\n",
       "      <th>Sp. Atk</th>\n",
       "      <th>Sp. Def</th>\n",
       "      <th>Speed</th>\n",
       "      <th>Generation</th>\n",
       "      <th>Legendary</th>\n",
       "    </tr>\n",
       "  </thead>\n",
       "  <tbody>\n",
       "    <tr>\n",
       "      <th>0</th>\n",
       "      <td>1</td>\n",
       "      <td>Bulbasaur</td>\n",
       "      <td>Grass</td>\n",
       "      <td>Poison</td>\n",
       "      <td>318</td>\n",
       "      <td>45</td>\n",
       "      <td>49</td>\n",
       "      <td>49</td>\n",
       "      <td>65</td>\n",
       "      <td>65</td>\n",
       "      <td>45</td>\n",
       "      <td>1</td>\n",
       "      <td>False</td>\n",
       "    </tr>\n",
       "    <tr>\n",
       "      <th>1</th>\n",
       "      <td>2</td>\n",
       "      <td>Ivysaur</td>\n",
       "      <td>Grass</td>\n",
       "      <td>Poison</td>\n",
       "      <td>405</td>\n",
       "      <td>60</td>\n",
       "      <td>62</td>\n",
       "      <td>63</td>\n",
       "      <td>80</td>\n",
       "      <td>80</td>\n",
       "      <td>60</td>\n",
       "      <td>1</td>\n",
       "      <td>False</td>\n",
       "    </tr>\n",
       "    <tr>\n",
       "      <th>2</th>\n",
       "      <td>3</td>\n",
       "      <td>Venusaur</td>\n",
       "      <td>Grass</td>\n",
       "      <td>Poison</td>\n",
       "      <td>525</td>\n",
       "      <td>80</td>\n",
       "      <td>82</td>\n",
       "      <td>83</td>\n",
       "      <td>100</td>\n",
       "      <td>100</td>\n",
       "      <td>80</td>\n",
       "      <td>1</td>\n",
       "      <td>False</td>\n",
       "    </tr>\n",
       "    <tr>\n",
       "      <th>3</th>\n",
       "      <td>3</td>\n",
       "      <td>VenusaurMega Venusaur</td>\n",
       "      <td>Grass</td>\n",
       "      <td>Poison</td>\n",
       "      <td>625</td>\n",
       "      <td>80</td>\n",
       "      <td>100</td>\n",
       "      <td>123</td>\n",
       "      <td>122</td>\n",
       "      <td>120</td>\n",
       "      <td>80</td>\n",
       "      <td>1</td>\n",
       "      <td>False</td>\n",
       "    </tr>\n",
       "    <tr>\n",
       "      <th>4</th>\n",
       "      <td>4</td>\n",
       "      <td>Charmander</td>\n",
       "      <td>Fire</td>\n",
       "      <td>NaN</td>\n",
       "      <td>309</td>\n",
       "      <td>39</td>\n",
       "      <td>52</td>\n",
       "      <td>43</td>\n",
       "      <td>60</td>\n",
       "      <td>50</td>\n",
       "      <td>65</td>\n",
       "      <td>1</td>\n",
       "      <td>False</td>\n",
       "    </tr>\n",
       "  </tbody>\n",
       "</table>\n",
       "</div>"
      ],
      "text/plain": [
       "   #                   Name Type 1  Type 2  Total  HP  Attack  Defense  \\\n",
       "0  1              Bulbasaur  Grass  Poison    318  45      49       49   \n",
       "1  2                Ivysaur  Grass  Poison    405  60      62       63   \n",
       "2  3               Venusaur  Grass  Poison    525  80      82       83   \n",
       "3  3  VenusaurMega Venusaur  Grass  Poison    625  80     100      123   \n",
       "4  4             Charmander   Fire     NaN    309  39      52       43   \n",
       "\n",
       "   Sp. Atk  Sp. Def  Speed  Generation  Legendary  \n",
       "0       65       65     45           1      False  \n",
       "1       80       80     60           1      False  \n",
       "2      100      100     80           1      False  \n",
       "3      122      120     80           1      False  \n",
       "4       60       50     65           1      False  "
      ]
     },
     "execution_count": 161,
     "metadata": {},
     "output_type": "execute_result"
    }
   ],
   "source": [
    "# Load the dataset\n",
    "df = pd.read_csv(\"Pokemon.csv\")\n",
    "\n",
    "# Let's take a look at the top rows in the table\n",
    "df.head()"
   ]
  },
  {
   "cell_type": "code",
   "execution_count": 162,
   "id": "b3b4ccfc",
   "metadata": {},
   "outputs": [
    {
     "name": "stdout",
     "output_type": "stream",
     "text": [
      "<class 'pandas.core.frame.DataFrame'>\n",
      "RangeIndex: 800 entries, 0 to 799\n",
      "Data columns (total 13 columns):\n",
      " #   Column      Non-Null Count  Dtype \n",
      "---  ------      --------------  ----- \n",
      " 0   #           800 non-null    int64 \n",
      " 1   Name        800 non-null    object\n",
      " 2   Type 1      800 non-null    object\n",
      " 3   Type 2      414 non-null    object\n",
      " 4   Total       800 non-null    int64 \n",
      " 5   HP          800 non-null    int64 \n",
      " 6   Attack      800 non-null    int64 \n",
      " 7   Defense     800 non-null    int64 \n",
      " 8   Sp. Atk     800 non-null    int64 \n",
      " 9   Sp. Def     800 non-null    int64 \n",
      " 10  Speed       800 non-null    int64 \n",
      " 11  Generation  800 non-null    int64 \n",
      " 12  Legendary   800 non-null    bool  \n",
      "dtypes: bool(1), int64(9), object(3)\n",
      "memory usage: 75.9+ KB\n"
     ]
    }
   ],
   "source": [
    "# Let's get some information about the columns in this table\n",
    "df.info()"
   ]
  },
  {
   "cell_type": "code",
   "execution_count": 163,
   "id": "3fb9f5f1",
   "metadata": {},
   "outputs": [
    {
     "data": {
      "application/vnd.microsoft.datawrangler.viewer.v0+json": {
       "columns": [
        {
         "name": "index",
         "rawType": "object",
         "type": "string"
        },
        {
         "name": "#",
         "rawType": "float64",
         "type": "float"
        },
        {
         "name": "Total",
         "rawType": "float64",
         "type": "float"
        },
        {
         "name": "HP",
         "rawType": "float64",
         "type": "float"
        },
        {
         "name": "Attack",
         "rawType": "float64",
         "type": "float"
        },
        {
         "name": "Defense",
         "rawType": "float64",
         "type": "float"
        },
        {
         "name": "Sp. Atk",
         "rawType": "float64",
         "type": "float"
        },
        {
         "name": "Sp. Def",
         "rawType": "float64",
         "type": "float"
        },
        {
         "name": "Speed",
         "rawType": "float64",
         "type": "float"
        },
        {
         "name": "Generation",
         "rawType": "float64",
         "type": "float"
        }
       ],
       "ref": "933f93a1-1a62-4754-b3c2-d998092b6835",
       "rows": [
        [
         "count",
         "800.0",
         "800.0",
         "800.0",
         "800.0",
         "800.0",
         "800.0",
         "800.0",
         "800.0",
         "800.0"
        ],
        [
         "mean",
         "362.81375",
         "435.1025",
         "69.25875",
         "79.00125",
         "73.8425",
         "72.82",
         "71.9025",
         "68.2775",
         "3.32375"
        ],
        [
         "std",
         "208.34379756406662",
         "119.96303975551899",
         "25.53466903233207",
         "32.45736586949845",
         "31.183500559332934",
         "32.7222941688016",
         "27.82891579711746",
         "29.060473717161464",
         "1.6612904004849451"
        ],
        [
         "min",
         "1.0",
         "180.0",
         "1.0",
         "5.0",
         "5.0",
         "10.0",
         "20.0",
         "5.0",
         "1.0"
        ],
        [
         "25%",
         "184.75",
         "330.0",
         "50.0",
         "55.0",
         "50.0",
         "49.75",
         "50.0",
         "45.0",
         "2.0"
        ],
        [
         "50%",
         "364.5",
         "450.0",
         "65.0",
         "75.0",
         "70.0",
         "65.0",
         "70.0",
         "65.0",
         "3.0"
        ],
        [
         "75%",
         "539.25",
         "515.0",
         "80.0",
         "100.0",
         "90.0",
         "95.0",
         "90.0",
         "90.0",
         "5.0"
        ],
        [
         "max",
         "721.0",
         "780.0",
         "255.0",
         "190.0",
         "230.0",
         "194.0",
         "230.0",
         "180.0",
         "6.0"
        ]
       ],
       "shape": {
        "columns": 9,
        "rows": 8
       }
      },
      "text/html": [
       "<div>\n",
       "<style scoped>\n",
       "    .dataframe tbody tr th:only-of-type {\n",
       "        vertical-align: middle;\n",
       "    }\n",
       "\n",
       "    .dataframe tbody tr th {\n",
       "        vertical-align: top;\n",
       "    }\n",
       "\n",
       "    .dataframe thead th {\n",
       "        text-align: right;\n",
       "    }\n",
       "</style>\n",
       "<table border=\"1\" class=\"dataframe\">\n",
       "  <thead>\n",
       "    <tr style=\"text-align: right;\">\n",
       "      <th></th>\n",
       "      <th>#</th>\n",
       "      <th>Total</th>\n",
       "      <th>HP</th>\n",
       "      <th>Attack</th>\n",
       "      <th>Defense</th>\n",
       "      <th>Sp. Atk</th>\n",
       "      <th>Sp. Def</th>\n",
       "      <th>Speed</th>\n",
       "      <th>Generation</th>\n",
       "    </tr>\n",
       "  </thead>\n",
       "  <tbody>\n",
       "    <tr>\n",
       "      <th>count</th>\n",
       "      <td>800.000000</td>\n",
       "      <td>800.00000</td>\n",
       "      <td>800.000000</td>\n",
       "      <td>800.000000</td>\n",
       "      <td>800.000000</td>\n",
       "      <td>800.000000</td>\n",
       "      <td>800.000000</td>\n",
       "      <td>800.000000</td>\n",
       "      <td>800.00000</td>\n",
       "    </tr>\n",
       "    <tr>\n",
       "      <th>mean</th>\n",
       "      <td>362.813750</td>\n",
       "      <td>435.10250</td>\n",
       "      <td>69.258750</td>\n",
       "      <td>79.001250</td>\n",
       "      <td>73.842500</td>\n",
       "      <td>72.820000</td>\n",
       "      <td>71.902500</td>\n",
       "      <td>68.277500</td>\n",
       "      <td>3.32375</td>\n",
       "    </tr>\n",
       "    <tr>\n",
       "      <th>std</th>\n",
       "      <td>208.343798</td>\n",
       "      <td>119.96304</td>\n",
       "      <td>25.534669</td>\n",
       "      <td>32.457366</td>\n",
       "      <td>31.183501</td>\n",
       "      <td>32.722294</td>\n",
       "      <td>27.828916</td>\n",
       "      <td>29.060474</td>\n",
       "      <td>1.66129</td>\n",
       "    </tr>\n",
       "    <tr>\n",
       "      <th>min</th>\n",
       "      <td>1.000000</td>\n",
       "      <td>180.00000</td>\n",
       "      <td>1.000000</td>\n",
       "      <td>5.000000</td>\n",
       "      <td>5.000000</td>\n",
       "      <td>10.000000</td>\n",
       "      <td>20.000000</td>\n",
       "      <td>5.000000</td>\n",
       "      <td>1.00000</td>\n",
       "    </tr>\n",
       "    <tr>\n",
       "      <th>25%</th>\n",
       "      <td>184.750000</td>\n",
       "      <td>330.00000</td>\n",
       "      <td>50.000000</td>\n",
       "      <td>55.000000</td>\n",
       "      <td>50.000000</td>\n",
       "      <td>49.750000</td>\n",
       "      <td>50.000000</td>\n",
       "      <td>45.000000</td>\n",
       "      <td>2.00000</td>\n",
       "    </tr>\n",
       "    <tr>\n",
       "      <th>50%</th>\n",
       "      <td>364.500000</td>\n",
       "      <td>450.00000</td>\n",
       "      <td>65.000000</td>\n",
       "      <td>75.000000</td>\n",
       "      <td>70.000000</td>\n",
       "      <td>65.000000</td>\n",
       "      <td>70.000000</td>\n",
       "      <td>65.000000</td>\n",
       "      <td>3.00000</td>\n",
       "    </tr>\n",
       "    <tr>\n",
       "      <th>75%</th>\n",
       "      <td>539.250000</td>\n",
       "      <td>515.00000</td>\n",
       "      <td>80.000000</td>\n",
       "      <td>100.000000</td>\n",
       "      <td>90.000000</td>\n",
       "      <td>95.000000</td>\n",
       "      <td>90.000000</td>\n",
       "      <td>90.000000</td>\n",
       "      <td>5.00000</td>\n",
       "    </tr>\n",
       "    <tr>\n",
       "      <th>max</th>\n",
       "      <td>721.000000</td>\n",
       "      <td>780.00000</td>\n",
       "      <td>255.000000</td>\n",
       "      <td>190.000000</td>\n",
       "      <td>230.000000</td>\n",
       "      <td>194.000000</td>\n",
       "      <td>230.000000</td>\n",
       "      <td>180.000000</td>\n",
       "      <td>6.00000</td>\n",
       "    </tr>\n",
       "  </tbody>\n",
       "</table>\n",
       "</div>"
      ],
      "text/plain": [
       "                #      Total          HP      Attack     Defense     Sp. Atk  \\\n",
       "count  800.000000  800.00000  800.000000  800.000000  800.000000  800.000000   \n",
       "mean   362.813750  435.10250   69.258750   79.001250   73.842500   72.820000   \n",
       "std    208.343798  119.96304   25.534669   32.457366   31.183501   32.722294   \n",
       "min      1.000000  180.00000    1.000000    5.000000    5.000000   10.000000   \n",
       "25%    184.750000  330.00000   50.000000   55.000000   50.000000   49.750000   \n",
       "50%    364.500000  450.00000   65.000000   75.000000   70.000000   65.000000   \n",
       "75%    539.250000  515.00000   80.000000  100.000000   90.000000   95.000000   \n",
       "max    721.000000  780.00000  255.000000  190.000000  230.000000  194.000000   \n",
       "\n",
       "          Sp. Def       Speed  Generation  \n",
       "count  800.000000  800.000000   800.00000  \n",
       "mean    71.902500   68.277500     3.32375  \n",
       "std     27.828916   29.060474     1.66129  \n",
       "min     20.000000    5.000000     1.00000  \n",
       "25%     50.000000   45.000000     2.00000  \n",
       "50%     70.000000   65.000000     3.00000  \n",
       "75%     90.000000   90.000000     5.00000  \n",
       "max    230.000000  180.000000     6.00000  "
      ]
     },
     "execution_count": 163,
     "metadata": {},
     "output_type": "execute_result"
    }
   ],
   "source": [
    "# See standard descriptive statistics about each column\n",
    "df.describe()"
   ]
  },
  {
   "cell_type": "code",
   "execution_count": 164,
   "id": "bb8f76d5",
   "metadata": {},
   "outputs": [
    {
     "data": {
      "application/vnd.microsoft.datawrangler.viewer.v0+json": {
       "columns": [
        {
         "name": "index",
         "rawType": "int64",
         "type": "integer"
        },
        {
         "name": "#",
         "rawType": "int64",
         "type": "integer"
        },
        {
         "name": "Name",
         "rawType": "object",
         "type": "string"
        },
        {
         "name": "Type1",
         "rawType": "object",
         "type": "string"
        },
        {
         "name": "Type2",
         "rawType": "object",
         "type": "unknown"
        },
        {
         "name": "Total",
         "rawType": "int64",
         "type": "integer"
        },
        {
         "name": "HP",
         "rawType": "int64",
         "type": "integer"
        },
        {
         "name": "Attack",
         "rawType": "int64",
         "type": "integer"
        },
        {
         "name": "Defense",
         "rawType": "int64",
         "type": "integer"
        },
        {
         "name": "SpAtk",
         "rawType": "int64",
         "type": "integer"
        },
        {
         "name": "SpDef",
         "rawType": "int64",
         "type": "integer"
        },
        {
         "name": "Speed",
         "rawType": "int64",
         "type": "integer"
        },
        {
         "name": "Generation",
         "rawType": "int64",
         "type": "integer"
        },
        {
         "name": "Legendary",
         "rawType": "bool",
         "type": "boolean"
        }
       ],
       "ref": "20a8e34f-24c7-49bb-80bc-a90884d6f4dc",
       "rows": [
        [
         "0",
         "1",
         "Bulbasaur",
         "Grass",
         "Poison",
         "318",
         "45",
         "49",
         "49",
         "65",
         "65",
         "45",
         "1",
         "False"
        ],
        [
         "1",
         "2",
         "Ivysaur",
         "Grass",
         "Poison",
         "405",
         "60",
         "62",
         "63",
         "80",
         "80",
         "60",
         "1",
         "False"
        ],
        [
         "2",
         "3",
         "Venusaur",
         "Grass",
         "Poison",
         "525",
         "80",
         "82",
         "83",
         "100",
         "100",
         "80",
         "1",
         "False"
        ],
        [
         "3",
         "3",
         "VenusaurMega Venusaur",
         "Grass",
         "Poison",
         "625",
         "80",
         "100",
         "123",
         "122",
         "120",
         "80",
         "1",
         "False"
        ],
        [
         "4",
         "4",
         "Charmander",
         "Fire",
         null,
         "309",
         "39",
         "52",
         "43",
         "60",
         "50",
         "65",
         "1",
         "False"
        ]
       ],
       "shape": {
        "columns": 13,
        "rows": 5
       }
      },
      "text/html": [
       "<div>\n",
       "<style scoped>\n",
       "    .dataframe tbody tr th:only-of-type {\n",
       "        vertical-align: middle;\n",
       "    }\n",
       "\n",
       "    .dataframe tbody tr th {\n",
       "        vertical-align: top;\n",
       "    }\n",
       "\n",
       "    .dataframe thead th {\n",
       "        text-align: right;\n",
       "    }\n",
       "</style>\n",
       "<table border=\"1\" class=\"dataframe\">\n",
       "  <thead>\n",
       "    <tr style=\"text-align: right;\">\n",
       "      <th></th>\n",
       "      <th>#</th>\n",
       "      <th>Name</th>\n",
       "      <th>Type1</th>\n",
       "      <th>Type2</th>\n",
       "      <th>Total</th>\n",
       "      <th>HP</th>\n",
       "      <th>Attack</th>\n",
       "      <th>Defense</th>\n",
       "      <th>SpAtk</th>\n",
       "      <th>SpDef</th>\n",
       "      <th>Speed</th>\n",
       "      <th>Generation</th>\n",
       "      <th>Legendary</th>\n",
       "    </tr>\n",
       "  </thead>\n",
       "  <tbody>\n",
       "    <tr>\n",
       "      <th>0</th>\n",
       "      <td>1</td>\n",
       "      <td>Bulbasaur</td>\n",
       "      <td>Grass</td>\n",
       "      <td>Poison</td>\n",
       "      <td>318</td>\n",
       "      <td>45</td>\n",
       "      <td>49</td>\n",
       "      <td>49</td>\n",
       "      <td>65</td>\n",
       "      <td>65</td>\n",
       "      <td>45</td>\n",
       "      <td>1</td>\n",
       "      <td>False</td>\n",
       "    </tr>\n",
       "    <tr>\n",
       "      <th>1</th>\n",
       "      <td>2</td>\n",
       "      <td>Ivysaur</td>\n",
       "      <td>Grass</td>\n",
       "      <td>Poison</td>\n",
       "      <td>405</td>\n",
       "      <td>60</td>\n",
       "      <td>62</td>\n",
       "      <td>63</td>\n",
       "      <td>80</td>\n",
       "      <td>80</td>\n",
       "      <td>60</td>\n",
       "      <td>1</td>\n",
       "      <td>False</td>\n",
       "    </tr>\n",
       "    <tr>\n",
       "      <th>2</th>\n",
       "      <td>3</td>\n",
       "      <td>Venusaur</td>\n",
       "      <td>Grass</td>\n",
       "      <td>Poison</td>\n",
       "      <td>525</td>\n",
       "      <td>80</td>\n",
       "      <td>82</td>\n",
       "      <td>83</td>\n",
       "      <td>100</td>\n",
       "      <td>100</td>\n",
       "      <td>80</td>\n",
       "      <td>1</td>\n",
       "      <td>False</td>\n",
       "    </tr>\n",
       "    <tr>\n",
       "      <th>3</th>\n",
       "      <td>3</td>\n",
       "      <td>VenusaurMega Venusaur</td>\n",
       "      <td>Grass</td>\n",
       "      <td>Poison</td>\n",
       "      <td>625</td>\n",
       "      <td>80</td>\n",
       "      <td>100</td>\n",
       "      <td>123</td>\n",
       "      <td>122</td>\n",
       "      <td>120</td>\n",
       "      <td>80</td>\n",
       "      <td>1</td>\n",
       "      <td>False</td>\n",
       "    </tr>\n",
       "    <tr>\n",
       "      <th>4</th>\n",
       "      <td>4</td>\n",
       "      <td>Charmander</td>\n",
       "      <td>Fire</td>\n",
       "      <td>NaN</td>\n",
       "      <td>309</td>\n",
       "      <td>39</td>\n",
       "      <td>52</td>\n",
       "      <td>43</td>\n",
       "      <td>60</td>\n",
       "      <td>50</td>\n",
       "      <td>65</td>\n",
       "      <td>1</td>\n",
       "      <td>False</td>\n",
       "    </tr>\n",
       "  </tbody>\n",
       "</table>\n",
       "</div>"
      ],
      "text/plain": [
       "   #                   Name  Type1   Type2  Total  HP  Attack  Defense  SpAtk  \\\n",
       "0  1              Bulbasaur  Grass  Poison    318  45      49       49     65   \n",
       "1  2                Ivysaur  Grass  Poison    405  60      62       63     80   \n",
       "2  3               Venusaur  Grass  Poison    525  80      82       83    100   \n",
       "3  3  VenusaurMega Venusaur  Grass  Poison    625  80     100      123    122   \n",
       "4  4             Charmander   Fire     NaN    309  39      52       43     60   \n",
       "\n",
       "   SpDef  Speed  Generation  Legendary  \n",
       "0     65     45           1      False  \n",
       "1     80     60           1      False  \n",
       "2    100     80           1      False  \n",
       "3    120     80           1      False  \n",
       "4     50     65           1      False  "
      ]
     },
     "execution_count": 164,
     "metadata": {},
     "output_type": "execute_result"
    }
   ],
   "source": [
    "# It's not good practice to have column names with spaces and other non-standard\n",
    "# characters, so let's fix this by renaming the columns to standard names\n",
    "df.rename(columns={\n",
    "    \"Type 1\" : \"Type1\",\n",
    "    \"Type 2\" : \"Type2\",\n",
    "    \"Sp. Atk\" : \"SpAtk\",\n",
    "    \"Sp. Def\" : \"SpDef\",\n",
    "}, inplace=True)\n",
    "\n",
    "df.head()"
   ]
  },
  {
   "cell_type": "code",
   "execution_count": 165,
   "id": "9aba0245",
   "metadata": {},
   "outputs": [
    {
     "data": {
      "application/vnd.microsoft.datawrangler.viewer.v0+json": {
       "columns": [
        {
         "name": "index",
         "rawType": "object",
         "type": "string"
        },
        {
         "name": "0",
         "rawType": "int64",
         "type": "integer"
        }
       ],
       "ref": "21fde82e-c2d5-46bb-a7a2-3c58731e91ab",
       "rows": [
        [
         "#",
         "0"
        ],
        [
         "Name",
         "0"
        ],
        [
         "Type1",
         "0"
        ],
        [
         "Type2",
         "386"
        ],
        [
         "Total",
         "0"
        ],
        [
         "HP",
         "0"
        ],
        [
         "Attack",
         "0"
        ],
        [
         "Defense",
         "0"
        ],
        [
         "SpAtk",
         "0"
        ],
        [
         "SpDef",
         "0"
        ],
        [
         "Speed",
         "0"
        ],
        [
         "Generation",
         "0"
        ],
        [
         "Legendary",
         "0"
        ]
       ],
       "shape": {
        "columns": 1,
        "rows": 13
       }
      },
      "text/plain": [
       "#               0\n",
       "Name            0\n",
       "Type1           0\n",
       "Type2         386\n",
       "Total           0\n",
       "HP              0\n",
       "Attack          0\n",
       "Defense         0\n",
       "SpAtk           0\n",
       "SpDef           0\n",
       "Speed           0\n",
       "Generation      0\n",
       "Legendary       0\n",
       "dtype: int64"
      ]
     },
     "execution_count": 165,
     "metadata": {},
     "output_type": "execute_result"
    }
   ],
   "source": [
    "# Do we have missing values in any of the columns?\n",
    "na_counts = df.isna().sum()\n",
    "\n",
    "na_counts"
   ]
  },
  {
   "cell_type": "code",
   "execution_count": 166,
   "id": "34d2aa1e",
   "metadata": {},
   "outputs": [],
   "source": [
    "# We seem to have missing values in the \"Type2\" column; let's replace them with\n",
    "# the string \"None\"\n",
    "df[\"Type2\"] = df[\"Type2\"].fillna(\"None\")"
   ]
  },
  {
   "cell_type": "code",
   "execution_count": 167,
   "id": "38affcaf",
   "metadata": {},
   "outputs": [
    {
     "name": "stdout",
     "output_type": "stream",
     "text": [
      "<class 'pandas.core.frame.DataFrame'>\n",
      "RangeIndex: 800 entries, 0 to 799\n",
      "Data columns (total 13 columns):\n",
      " #   Column      Non-Null Count  Dtype   \n",
      "---  ------      --------------  -----   \n",
      " 0   #           800 non-null    int64   \n",
      " 1   Name        800 non-null    object  \n",
      " 2   Type1       800 non-null    category\n",
      " 3   Type2       800 non-null    category\n",
      " 4   Total       800 non-null    int64   \n",
      " 5   HP          800 non-null    int64   \n",
      " 6   Attack      800 non-null    int64   \n",
      " 7   Defense     800 non-null    int64   \n",
      " 8   SpAtk       800 non-null    int64   \n",
      " 9   SpDef       800 non-null    int64   \n",
      " 10  Speed       800 non-null    int64   \n",
      " 11  Generation  800 non-null    int64   \n",
      " 12  Legendary   800 non-null    bool    \n",
      "dtypes: bool(1), category(2), int64(9), object(1)\n",
      "memory usage: 66.3+ KB\n"
     ]
    }
   ],
   "source": [
    "# Since primary and secondary types are essentially categories (and not just\n",
    "# strings / objects), we can convert these columns to the category type\n",
    "df[\"Type1\"] = df[\"Type1\"].astype(\"category\")\n",
    "df[\"Type2\"] = df[\"Type2\"].astype(\"category\")\n",
    "\n",
    "# Let's look at the column information now\n",
    "df.info()"
   ]
  },
  {
   "cell_type": "code",
   "execution_count": 168,
   "id": "101af89b",
   "metadata": {},
   "outputs": [
    {
     "name": "stdout",
     "output_type": "stream",
     "text": [
      "== Primary type categories ==\n"
     ]
    },
    {
     "data": {
      "text/plain": [
       "['Bug',\n",
       " 'Dark',\n",
       " 'Dragon',\n",
       " 'Electric',\n",
       " 'Fairy',\n",
       " 'Fighting',\n",
       " 'Fire',\n",
       " 'Flying',\n",
       " 'Ghost',\n",
       " 'Grass',\n",
       " 'Ground',\n",
       " 'Ice',\n",
       " 'Normal',\n",
       " 'Poison',\n",
       " 'Psychic',\n",
       " 'Rock',\n",
       " 'Steel',\n",
       " 'Water']"
      ]
     },
     "metadata": {},
     "output_type": "display_data"
    },
    {
     "name": "stdout",
     "output_type": "stream",
     "text": [
      "== Secondary type categories ==\n"
     ]
    },
    {
     "data": {
      "text/plain": [
       "['Bug',\n",
       " 'Dark',\n",
       " 'Dragon',\n",
       " 'Electric',\n",
       " 'Fairy',\n",
       " 'Fighting',\n",
       " 'Fire',\n",
       " 'Flying',\n",
       " 'Ghost',\n",
       " 'Grass',\n",
       " 'Ground',\n",
       " 'Ice',\n",
       " 'None',\n",
       " 'Normal',\n",
       " 'Poison',\n",
       " 'Psychic',\n",
       " 'Rock',\n",
       " 'Steel',\n",
       " 'Water']"
      ]
     },
     "metadata": {},
     "output_type": "display_data"
    }
   ],
   "source": [
    "# Quick look at which categories exist in primary and secondary types\n",
    "print(\"== Primary type categories ==\")\n",
    "display(list(df[\"Type1\"].cat.categories))\n",
    "print(\"== Secondary type categories ==\")\n",
    "display(list(df[\"Type2\"].cat.categories))"
   ]
  },
  {
   "cell_type": "code",
   "execution_count": 169,
   "id": "51a27ec1",
   "metadata": {},
   "outputs": [
    {
     "name": "stdout",
     "output_type": "stream",
     "text": [
      "== Using groupby ==\n"
     ]
    },
    {
     "data": {
      "application/vnd.microsoft.datawrangler.viewer.v0+json": {
       "columns": [
        {
         "name": "Generation",
         "rawType": "int64",
         "type": "integer"
        },
        {
         "name": "#",
         "rawType": "int64",
         "type": "integer"
        }
       ],
       "ref": "4e564da9-72ed-49c3-b3ba-3ed72e4f2027",
       "rows": [
        [
         "1",
         "166"
        ],
        [
         "2",
         "106"
        ],
        [
         "3",
         "160"
        ],
        [
         "4",
         "121"
        ],
        [
         "5",
         "165"
        ],
        [
         "6",
         "82"
        ]
       ],
       "shape": {
        "columns": 1,
        "rows": 6
       }
      },
      "text/plain": [
       "Generation\n",
       "1    166\n",
       "2    106\n",
       "3    160\n",
       "4    121\n",
       "5    165\n",
       "6     82\n",
       "Name: #, dtype: int64"
      ]
     },
     "metadata": {},
     "output_type": "display_data"
    },
    {
     "name": "stdout",
     "output_type": "stream",
     "text": [
      "== Using the 'Generation' column directly ==\n"
     ]
    },
    {
     "data": {
      "application/vnd.microsoft.datawrangler.viewer.v0+json": {
       "columns": [
        {
         "name": "Generation",
         "rawType": "int64",
         "type": "integer"
        },
        {
         "name": "count",
         "rawType": "int64",
         "type": "integer"
        }
       ],
       "ref": "55e81e8e-ac14-4e35-8c26-9ddb424fca09",
       "rows": [
        [
         "1",
         "166"
        ],
        [
         "2",
         "106"
        ],
        [
         "3",
         "160"
        ],
        [
         "4",
         "121"
        ],
        [
         "5",
         "165"
        ],
        [
         "6",
         "82"
        ]
       ],
       "shape": {
        "columns": 1,
        "rows": 6
       }
      },
      "text/plain": [
       "Generation\n",
       "1    166\n",
       "2    106\n",
       "3    160\n",
       "4    121\n",
       "5    165\n",
       "6     82\n",
       "Name: count, dtype: int64"
      ]
     },
     "metadata": {},
     "output_type": "display_data"
    }
   ],
   "source": [
    "# How many different Pokémons do we have by generation?\n",
    "\n",
    "# We can obtain this information by grouping the data frame by the \"Generation\"\n",
    "# column and then count how many items there are in each generation\n",
    "print(\"== Using groupby ==\")\n",
    "display(df.groupby([\"Generation\"])[\"#\"].count())\n",
    "\n",
    "# Another approach is just to take the \"Generation\" column directly, count how\n",
    "# many different values there are, and sort by index (the index being \"Generation\")\n",
    "print(\"== Using the 'Generation' column directly ==\")\n",
    "display(df[\"Generation\"].value_counts().sort_index())"
   ]
  },
  {
   "cell_type": "code",
   "execution_count": 170,
   "id": "260d7d9d",
   "metadata": {},
   "outputs": [
    {
     "data": {
      "application/vnd.microsoft.datawrangler.viewer.v0+json": {
       "columns": [
        {
         "name": "Type1",
         "rawType": "category",
         "type": "unknown"
        },
        {
         "name": "count",
         "rawType": "int64",
         "type": "integer"
        }
       ],
       "ref": "5aa9605f-4575-4ac7-bc8d-c917b74fb8fd",
       "rows": [
        [
         "Water",
         "112"
        ],
        [
         "Normal",
         "98"
        ],
        [
         "Grass",
         "70"
        ],
        [
         "Bug",
         "69"
        ],
        [
         "Psychic",
         "57"
        ],
        [
         "Fire",
         "52"
        ],
        [
         "Electric",
         "44"
        ],
        [
         "Rock",
         "44"
        ],
        [
         "Ground",
         "32"
        ],
        [
         "Dragon",
         "32"
        ],
        [
         "Ghost",
         "32"
        ],
        [
         "Dark",
         "31"
        ],
        [
         "Poison",
         "28"
        ],
        [
         "Fighting",
         "27"
        ],
        [
         "Steel",
         "27"
        ],
        [
         "Ice",
         "24"
        ],
        [
         "Fairy",
         "17"
        ],
        [
         "Flying",
         "4"
        ]
       ],
       "shape": {
        "columns": 1,
        "rows": 18
       }
      },
      "text/plain": [
       "Type1\n",
       "Water       112\n",
       "Normal       98\n",
       "Grass        70\n",
       "Bug          69\n",
       "Psychic      57\n",
       "Fire         52\n",
       "Electric     44\n",
       "Rock         44\n",
       "Ground       32\n",
       "Dragon       32\n",
       "Ghost        32\n",
       "Dark         31\n",
       "Poison       28\n",
       "Fighting     27\n",
       "Steel        27\n",
       "Ice          24\n",
       "Fairy        17\n",
       "Flying        4\n",
       "Name: count, dtype: int64"
      ]
     },
     "execution_count": 170,
     "metadata": {},
     "output_type": "execute_result"
    }
   ],
   "source": [
    "# How many Pokémons in each primary category?\n",
    "# Note that we're not sorting here, leaving the natural sort by count\n",
    "# If we did sort by index, the sort would be done alphabetically by Type1\n",
    "df[\"Type1\"].value_counts()"
   ]
  },
  {
   "cell_type": "code",
   "execution_count": 171,
   "id": "79fddf17",
   "metadata": {},
   "outputs": [
    {
     "data": {
      "application/vnd.microsoft.datawrangler.viewer.v0+json": {
       "columns": [
        {
         "name": "Type1",
         "rawType": "category",
         "type": "unknown"
        },
        {
         "name": "Total",
         "rawType": "float64",
         "type": "float"
        },
        {
         "name": "HP",
         "rawType": "float64",
         "type": "float"
        },
        {
         "name": "Attack",
         "rawType": "float64",
         "type": "float"
        },
        {
         "name": "Defense",
         "rawType": "float64",
         "type": "float"
        },
        {
         "name": "SpAtk",
         "rawType": "float64",
         "type": "float"
        },
        {
         "name": "SpDef",
         "rawType": "float64",
         "type": "float"
        },
        {
         "name": "Speed",
         "rawType": "float64",
         "type": "float"
        }
       ],
       "ref": "5bf140c2-9281-4d6b-a3b4-0f9689074390",
       "rows": [
        [
         "Dragon",
         "550.5",
         "83.3",
         "112.1",
         "86.4",
         "96.8",
         "88.8",
         "83.0"
        ],
        [
         "Steel",
         "487.7",
         "65.2",
         "92.7",
         "126.4",
         "67.5",
         "80.6",
         "55.3"
        ],
        [
         "Flying",
         "485.0",
         "70.8",
         "78.8",
         "66.2",
         "94.2",
         "72.5",
         "102.5"
        ],
        [
         "Psychic",
         "475.9",
         "70.6",
         "71.5",
         "67.7",
         "98.4",
         "86.3",
         "81.5"
        ],
        [
         "Fire",
         "458.1",
         "69.9",
         "84.8",
         "67.8",
         "89.0",
         "72.2",
         "74.4"
        ],
        [
         "Rock",
         "453.8",
         "65.4",
         "92.9",
         "100.8",
         "63.3",
         "75.5",
         "55.9"
        ],
        [
         "Dark",
         "445.7",
         "66.8",
         "88.4",
         "70.2",
         "74.6",
         "69.5",
         "76.2"
        ],
        [
         "Electric",
         "443.4",
         "59.8",
         "69.1",
         "66.3",
         "90.0",
         "73.7",
         "84.5"
        ],
        [
         "Ghost",
         "439.6",
         "64.4",
         "73.8",
         "81.2",
         "79.3",
         "76.5",
         "64.3"
        ],
        [
         "Ground",
         "437.5",
         "73.8",
         "95.8",
         "84.8",
         "56.5",
         "62.8",
         "63.9"
        ],
        [
         "Ice",
         "433.5",
         "72.0",
         "72.8",
         "71.4",
         "77.5",
         "76.3",
         "63.5"
        ],
        [
         "Water",
         "430.5",
         "72.1",
         "74.2",
         "72.9",
         "74.8",
         "70.5",
         "66.0"
        ],
        [
         "Grass",
         "421.1",
         "67.3",
         "73.2",
         "70.8",
         "77.5",
         "70.4",
         "61.9"
        ],
        [
         "Fighting",
         "416.4",
         "69.9",
         "96.8",
         "65.9",
         "53.1",
         "64.7",
         "66.1"
        ],
        [
         "Fairy",
         "413.2",
         "74.1",
         "61.5",
         "65.7",
         "78.5",
         "84.7",
         "48.6"
        ],
        [
         "Normal",
         "401.7",
         "77.3",
         "73.5",
         "59.8",
         "55.8",
         "63.7",
         "71.6"
        ],
        [
         "Poison",
         "399.1",
         "67.2",
         "74.7",
         "68.8",
         "60.4",
         "64.4",
         "63.6"
        ],
        [
         "Bug",
         "378.9",
         "56.9",
         "71.0",
         "70.7",
         "53.9",
         "64.8",
         "61.7"
        ]
       ],
       "shape": {
        "columns": 7,
        "rows": 18
       }
      },
      "text/html": [
       "<div>\n",
       "<style scoped>\n",
       "    .dataframe tbody tr th:only-of-type {\n",
       "        vertical-align: middle;\n",
       "    }\n",
       "\n",
       "    .dataframe tbody tr th {\n",
       "        vertical-align: top;\n",
       "    }\n",
       "\n",
       "    .dataframe thead th {\n",
       "        text-align: right;\n",
       "    }\n",
       "</style>\n",
       "<table border=\"1\" class=\"dataframe\">\n",
       "  <thead>\n",
       "    <tr style=\"text-align: right;\">\n",
       "      <th></th>\n",
       "      <th>Total</th>\n",
       "      <th>HP</th>\n",
       "      <th>Attack</th>\n",
       "      <th>Defense</th>\n",
       "      <th>SpAtk</th>\n",
       "      <th>SpDef</th>\n",
       "      <th>Speed</th>\n",
       "    </tr>\n",
       "    <tr>\n",
       "      <th>Type1</th>\n",
       "      <th></th>\n",
       "      <th></th>\n",
       "      <th></th>\n",
       "      <th></th>\n",
       "      <th></th>\n",
       "      <th></th>\n",
       "      <th></th>\n",
       "    </tr>\n",
       "  </thead>\n",
       "  <tbody>\n",
       "    <tr>\n",
       "      <th>Dragon</th>\n",
       "      <td>550.5</td>\n",
       "      <td>83.3</td>\n",
       "      <td>112.1</td>\n",
       "      <td>86.4</td>\n",
       "      <td>96.8</td>\n",
       "      <td>88.8</td>\n",
       "      <td>83.0</td>\n",
       "    </tr>\n",
       "    <tr>\n",
       "      <th>Steel</th>\n",
       "      <td>487.7</td>\n",
       "      <td>65.2</td>\n",
       "      <td>92.7</td>\n",
       "      <td>126.4</td>\n",
       "      <td>67.5</td>\n",
       "      <td>80.6</td>\n",
       "      <td>55.3</td>\n",
       "    </tr>\n",
       "    <tr>\n",
       "      <th>Flying</th>\n",
       "      <td>485.0</td>\n",
       "      <td>70.8</td>\n",
       "      <td>78.8</td>\n",
       "      <td>66.2</td>\n",
       "      <td>94.2</td>\n",
       "      <td>72.5</td>\n",
       "      <td>102.5</td>\n",
       "    </tr>\n",
       "    <tr>\n",
       "      <th>Psychic</th>\n",
       "      <td>475.9</td>\n",
       "      <td>70.6</td>\n",
       "      <td>71.5</td>\n",
       "      <td>67.7</td>\n",
       "      <td>98.4</td>\n",
       "      <td>86.3</td>\n",
       "      <td>81.5</td>\n",
       "    </tr>\n",
       "    <tr>\n",
       "      <th>Fire</th>\n",
       "      <td>458.1</td>\n",
       "      <td>69.9</td>\n",
       "      <td>84.8</td>\n",
       "      <td>67.8</td>\n",
       "      <td>89.0</td>\n",
       "      <td>72.2</td>\n",
       "      <td>74.4</td>\n",
       "    </tr>\n",
       "    <tr>\n",
       "      <th>Rock</th>\n",
       "      <td>453.8</td>\n",
       "      <td>65.4</td>\n",
       "      <td>92.9</td>\n",
       "      <td>100.8</td>\n",
       "      <td>63.3</td>\n",
       "      <td>75.5</td>\n",
       "      <td>55.9</td>\n",
       "    </tr>\n",
       "    <tr>\n",
       "      <th>Dark</th>\n",
       "      <td>445.7</td>\n",
       "      <td>66.8</td>\n",
       "      <td>88.4</td>\n",
       "      <td>70.2</td>\n",
       "      <td>74.6</td>\n",
       "      <td>69.5</td>\n",
       "      <td>76.2</td>\n",
       "    </tr>\n",
       "    <tr>\n",
       "      <th>Electric</th>\n",
       "      <td>443.4</td>\n",
       "      <td>59.8</td>\n",
       "      <td>69.1</td>\n",
       "      <td>66.3</td>\n",
       "      <td>90.0</td>\n",
       "      <td>73.7</td>\n",
       "      <td>84.5</td>\n",
       "    </tr>\n",
       "    <tr>\n",
       "      <th>Ghost</th>\n",
       "      <td>439.6</td>\n",
       "      <td>64.4</td>\n",
       "      <td>73.8</td>\n",
       "      <td>81.2</td>\n",
       "      <td>79.3</td>\n",
       "      <td>76.5</td>\n",
       "      <td>64.3</td>\n",
       "    </tr>\n",
       "    <tr>\n",
       "      <th>Ground</th>\n",
       "      <td>437.5</td>\n",
       "      <td>73.8</td>\n",
       "      <td>95.8</td>\n",
       "      <td>84.8</td>\n",
       "      <td>56.5</td>\n",
       "      <td>62.8</td>\n",
       "      <td>63.9</td>\n",
       "    </tr>\n",
       "    <tr>\n",
       "      <th>Ice</th>\n",
       "      <td>433.5</td>\n",
       "      <td>72.0</td>\n",
       "      <td>72.8</td>\n",
       "      <td>71.4</td>\n",
       "      <td>77.5</td>\n",
       "      <td>76.3</td>\n",
       "      <td>63.5</td>\n",
       "    </tr>\n",
       "    <tr>\n",
       "      <th>Water</th>\n",
       "      <td>430.5</td>\n",
       "      <td>72.1</td>\n",
       "      <td>74.2</td>\n",
       "      <td>72.9</td>\n",
       "      <td>74.8</td>\n",
       "      <td>70.5</td>\n",
       "      <td>66.0</td>\n",
       "    </tr>\n",
       "    <tr>\n",
       "      <th>Grass</th>\n",
       "      <td>421.1</td>\n",
       "      <td>67.3</td>\n",
       "      <td>73.2</td>\n",
       "      <td>70.8</td>\n",
       "      <td>77.5</td>\n",
       "      <td>70.4</td>\n",
       "      <td>61.9</td>\n",
       "    </tr>\n",
       "    <tr>\n",
       "      <th>Fighting</th>\n",
       "      <td>416.4</td>\n",
       "      <td>69.9</td>\n",
       "      <td>96.8</td>\n",
       "      <td>65.9</td>\n",
       "      <td>53.1</td>\n",
       "      <td>64.7</td>\n",
       "      <td>66.1</td>\n",
       "    </tr>\n",
       "    <tr>\n",
       "      <th>Fairy</th>\n",
       "      <td>413.2</td>\n",
       "      <td>74.1</td>\n",
       "      <td>61.5</td>\n",
       "      <td>65.7</td>\n",
       "      <td>78.5</td>\n",
       "      <td>84.7</td>\n",
       "      <td>48.6</td>\n",
       "    </tr>\n",
       "    <tr>\n",
       "      <th>Normal</th>\n",
       "      <td>401.7</td>\n",
       "      <td>77.3</td>\n",
       "      <td>73.5</td>\n",
       "      <td>59.8</td>\n",
       "      <td>55.8</td>\n",
       "      <td>63.7</td>\n",
       "      <td>71.6</td>\n",
       "    </tr>\n",
       "    <tr>\n",
       "      <th>Poison</th>\n",
       "      <td>399.1</td>\n",
       "      <td>67.2</td>\n",
       "      <td>74.7</td>\n",
       "      <td>68.8</td>\n",
       "      <td>60.4</td>\n",
       "      <td>64.4</td>\n",
       "      <td>63.6</td>\n",
       "    </tr>\n",
       "    <tr>\n",
       "      <th>Bug</th>\n",
       "      <td>378.9</td>\n",
       "      <td>56.9</td>\n",
       "      <td>71.0</td>\n",
       "      <td>70.7</td>\n",
       "      <td>53.9</td>\n",
       "      <td>64.8</td>\n",
       "      <td>61.7</td>\n",
       "    </tr>\n",
       "  </tbody>\n",
       "</table>\n",
       "</div>"
      ],
      "text/plain": [
       "          Total    HP  Attack  Defense  SpAtk  SpDef  Speed\n",
       "Type1                                                      \n",
       "Dragon    550.5  83.3   112.1     86.4   96.8   88.8   83.0\n",
       "Steel     487.7  65.2    92.7    126.4   67.5   80.6   55.3\n",
       "Flying    485.0  70.8    78.8     66.2   94.2   72.5  102.5\n",
       "Psychic   475.9  70.6    71.5     67.7   98.4   86.3   81.5\n",
       "Fire      458.1  69.9    84.8     67.8   89.0   72.2   74.4\n",
       "Rock      453.8  65.4    92.9    100.8   63.3   75.5   55.9\n",
       "Dark      445.7  66.8    88.4     70.2   74.6   69.5   76.2\n",
       "Electric  443.4  59.8    69.1     66.3   90.0   73.7   84.5\n",
       "Ghost     439.6  64.4    73.8     81.2   79.3   76.5   64.3\n",
       "Ground    437.5  73.8    95.8     84.8   56.5   62.8   63.9\n",
       "Ice       433.5  72.0    72.8     71.4   77.5   76.3   63.5\n",
       "Water     430.5  72.1    74.2     72.9   74.8   70.5   66.0\n",
       "Grass     421.1  67.3    73.2     70.8   77.5   70.4   61.9\n",
       "Fighting  416.4  69.9    96.8     65.9   53.1   64.7   66.1\n",
       "Fairy     413.2  74.1    61.5     65.7   78.5   84.7   48.6\n",
       "Normal    401.7  77.3    73.5     59.8   55.8   63.7   71.6\n",
       "Poison    399.1  67.2    74.7     68.8   60.4   64.4   63.6\n",
       "Bug       378.9  56.9    71.0     70.7   53.9   64.8   61.7"
      ]
     },
     "execution_count": 171,
     "metadata": {},
     "output_type": "execute_result"
    }
   ],
   "source": [
    "# Show the mean stats (HP, Attack, etc) for each primary type set of Pokémons\n",
    "# Round to 1 decimal place and sort by \"Total\" from largest to smallest\n",
    "df.groupby(\"Type1\", observed=False)[\n",
    "    [\"Total\", \"HP\", \"Attack\", \"Defense\", \"SpAtk\", \"SpDef\", \"Speed\"]\n",
    "].mean().round(1).sort_values(\"Total\", ascending=False)"
   ]
  },
  {
   "cell_type": "code",
   "execution_count": 172,
   "id": "47a88698",
   "metadata": {},
   "outputs": [
    {
     "data": {
      "application/vnd.microsoft.datawrangler.viewer.v0+json": {
       "columns": [
        {
         "name": "Legendary",
         "rawType": "bool",
         "type": "boolean"
        },
        {
         "name": "Total",
         "rawType": "float64",
         "type": "float"
        },
        {
         "name": "HP",
         "rawType": "float64",
         "type": "float"
        },
        {
         "name": "Attack",
         "rawType": "float64",
         "type": "float"
        },
        {
         "name": "Defense",
         "rawType": "float64",
         "type": "float"
        },
        {
         "name": "SpAtk",
         "rawType": "float64",
         "type": "float"
        },
        {
         "name": "SpDef",
         "rawType": "float64",
         "type": "float"
        },
        {
         "name": "Speed",
         "rawType": "float64",
         "type": "float"
        }
       ],
       "ref": "eae2a12d-50a8-490b-bc4c-7273abe6773f",
       "rows": [
        [
         "False",
         "417.2",
         "67.2",
         "75.7",
         "71.6",
         "68.5",
         "68.9",
         "65.5"
        ],
        [
         "True",
         "637.4",
         "92.7",
         "116.7",
         "99.7",
         "122.2",
         "105.9",
         "100.2"
        ]
       ],
       "shape": {
        "columns": 7,
        "rows": 2
       }
      },
      "text/html": [
       "<div>\n",
       "<style scoped>\n",
       "    .dataframe tbody tr th:only-of-type {\n",
       "        vertical-align: middle;\n",
       "    }\n",
       "\n",
       "    .dataframe tbody tr th {\n",
       "        vertical-align: top;\n",
       "    }\n",
       "\n",
       "    .dataframe thead th {\n",
       "        text-align: right;\n",
       "    }\n",
       "</style>\n",
       "<table border=\"1\" class=\"dataframe\">\n",
       "  <thead>\n",
       "    <tr style=\"text-align: right;\">\n",
       "      <th></th>\n",
       "      <th>Total</th>\n",
       "      <th>HP</th>\n",
       "      <th>Attack</th>\n",
       "      <th>Defense</th>\n",
       "      <th>SpAtk</th>\n",
       "      <th>SpDef</th>\n",
       "      <th>Speed</th>\n",
       "    </tr>\n",
       "    <tr>\n",
       "      <th>Legendary</th>\n",
       "      <th></th>\n",
       "      <th></th>\n",
       "      <th></th>\n",
       "      <th></th>\n",
       "      <th></th>\n",
       "      <th></th>\n",
       "      <th></th>\n",
       "    </tr>\n",
       "  </thead>\n",
       "  <tbody>\n",
       "    <tr>\n",
       "      <th>False</th>\n",
       "      <td>417.2</td>\n",
       "      <td>67.2</td>\n",
       "      <td>75.7</td>\n",
       "      <td>71.6</td>\n",
       "      <td>68.5</td>\n",
       "      <td>68.9</td>\n",
       "      <td>65.5</td>\n",
       "    </tr>\n",
       "    <tr>\n",
       "      <th>True</th>\n",
       "      <td>637.4</td>\n",
       "      <td>92.7</td>\n",
       "      <td>116.7</td>\n",
       "      <td>99.7</td>\n",
       "      <td>122.2</td>\n",
       "      <td>105.9</td>\n",
       "      <td>100.2</td>\n",
       "    </tr>\n",
       "  </tbody>\n",
       "</table>\n",
       "</div>"
      ],
      "text/plain": [
       "           Total    HP  Attack  Defense  SpAtk  SpDef  Speed\n",
       "Legendary                                                   \n",
       "False      417.2  67.2    75.7     71.6   68.5   68.9   65.5\n",
       "True       637.4  92.7   116.7     99.7  122.2  105.9  100.2"
      ]
     },
     "execution_count": 172,
     "metadata": {},
     "output_type": "execute_result"
    }
   ],
   "source": [
    "# Get mean stats for non-legendary and legendary Pokémons\n",
    "df.groupby(\"Legendary\")[\n",
    "    [\"Total\", \"HP\", \"Attack\", \"Defense\", \"SpAtk\", \"SpDef\", \"Speed\"]\n",
    "].mean().round(1)"
   ]
  },
  {
   "cell_type": "code",
   "execution_count": 173,
   "id": "ee66a42c",
   "metadata": {},
   "outputs": [
    {
     "data": {
      "text/plain": [
       "<Axes: xlabel='Attack', ylabel='Count'>"
      ]
     },
     "execution_count": 173,
     "metadata": {},
     "output_type": "execute_result"
    },
    {
     "data": {
      "image/png": "[encoded data removed]",
      "text/plain": [
       "<Figure size 640x480 with 1 Axes>"
      ]
     },
     "metadata": {},
     "output_type": "display_data"
    }
   ],
   "source": [
    "# Plot the histogram of the Attack stat for all Pokémons\n",
    "# bins=20 sets the number of bars (20)\n",
    "# kde=true also draws the estimated distribution line along the histogram\n",
    "sns.histplot(data=df, x=\"Attack\", bins=20, kde=True)"
   ]
  },
  {
   "cell_type": "code",
   "execution_count": 174,
   "id": "4ba4f4bf",
   "metadata": {},
   "outputs": [
    {
     "data": {
      "text/plain": [
       "<Axes: xlabel='Speed', ylabel='Count'>"
      ]
     },
     "execution_count": 174,
     "metadata": {},
     "output_type": "execute_result"
    },
    {
     "data": {
      "image/png": "[encoded data removed]",
      "text/plain": [
       "<Figure size 640x480 with 1 Axes>"
      ]
     },
     "metadata": {},
     "output_type": "display_data"
    }
   ],
   "source": [
    "# Plot the histogram of the Speed stat for all Pokémons\n",
    "sns.histplot(data=df, x=\"Speed\", bins=20, kde=True)"
   ]
  },
  {
   "cell_type": "code",
   "execution_count": 175,
   "id": "62e57685",
   "metadata": {},
   "outputs": [
    {
     "data": {
      "text/plain": [
       "['Water',\n",
       " 'Normal',\n",
       " 'Grass',\n",
       " 'Bug',\n",
       " 'Psychic',\n",
       " 'Fire',\n",
       " 'Electric',\n",
       " 'Rock',\n",
       " 'Ground',\n",
       " 'Dragon']"
      ]
     },
     "execution_count": 175,
     "metadata": {},
     "output_type": "execute_result"
    }
   ],
   "source": [
    "# Get the 10 primary type categories with most Pokémons\n",
    "top_types = df[\"Type1\"].value_counts().head(10).index\n",
    "\n",
    "list(top_types)"
   ]
  },
  {
   "cell_type": "code",
   "execution_count": 176,
   "id": "8b29c79d",
   "metadata": {},
   "outputs": [],
   "source": [
    "# Filter our data frame to get a new data frame with only the top 10 primary\n",
    "# type Pokémons\n",
    "df_toptypes_only = df[df[\"Type1\"].isin(top_types)]"
   ]
  },
  {
   "cell_type": "code",
   "execution_count": 177,
   "id": "4709b01f",
   "metadata": {},
   "outputs": [
    {
     "data": {
      "image/png": "[encoded data removed]",
      "text/plain": [
       "<Figure size 640x480 with 1 Axes>"
      ]
     },
     "metadata": {},
     "output_type": "display_data"
    }
   ],
   "source": [
    "# Show a boxplot for the Defense stat for the top 10 primary types with more\n",
    "# Pokémons\n",
    "ax = sns.boxplot(data=df_toptypes_only, x=\"Type1\", y=\"Defense\", order=top_types)\n",
    "ax.tick_params(\"x\", labelrotation=90)"
   ]
  }
 ],
 "metadata": {
  "kernelspec": {
   "display_name": "env",
   "language": "python",
   "name": "python3"
  },
  "language_info": {
   "codemirror_mode": {
    "name": "ipython",
    "version": 3
   },
   "file_extension": ".py",
   "mimetype": "text/x-python",
   "name": "python",
   "nbconvert_exporter": "python",
   "pygments_lexer": "ipython3",
   "version": "3.12.3"
  }
 },
 "nbformat": 4,
 "nbformat_minor": 5
}
