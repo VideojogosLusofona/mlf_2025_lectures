{
 "cells": [
  {
   "cell_type": "markdown",
   "id": "304b0c06",
   "metadata": {},
   "source": [
    "# Machine Learning Fundamentals - Lecture 02\n",
    "\n",
    "This is the Jupyter notebook for Lecture 02 of the Machine Learning Fundamentals\n",
    "course."
   ]
  },
  {
   "cell_type": "markdown",
   "id": "d0caaa45",
   "metadata": {},
   "source": [
    "## Part 1: Load and clean dataset"
   ]
  },
  {
   "cell_type": "code",
   "execution_count": 1,
   "id": "99f40c69",
   "metadata": {},
   "outputs": [],
   "source": [
    "# Import the required libraries using the commonly use short names (pd, sns, ...)\n",
    "import numpy as np\n",
    "import pandas as pd\n",
    "import seaborn as sns\n",
    "\n",
    "# The Path object from pathlib allows us to easily build paths in an\n",
    "# OS-independent fashion\n",
    "from pathlib import Path\n",
    "\n",
    "# Load the required scikit-learn classes and functions\n",
    "from sklearn.preprocessing import StandardScaler\n",
    "from sklearn.tree import DecisionTreeClassifier, export_text, plot_tree\n",
    "from sklearn.neighbors import KNeighborsClassifier\n",
    "from sklearn.model_selection import train_test_split\n",
    "from sklearn.metrics import accuracy_score\n",
    "import matplotlib.pyplot as plt\n",
    "\n",
    "# Set a nicer style for Seaborn plots\n",
    "sns.set_style(\"darkgrid\")"
   ]
  },
  {
   "cell_type": "code",
   "execution_count": 2,
   "id": "761fb22b",
   "metadata": {},
   "outputs": [
    {
     "data": {
      "application/vnd.microsoft.datawrangler.viewer.v0+json": {
       "columns": [
        {
         "name": "index",
         "rawType": "int64",
         "type": "integer"
        },
        {
         "name": "#",
         "rawType": "int64",
         "type": "integer"
        },
        {
         "name": "Name",
         "rawType": "object",
         "type": "string"
        },
        {
         "name": "Type 1",
         "rawType": "object",
         "type": "string"
        },
        {
         "name": "Type 2",
         "rawType": "object",
         "type": "unknown"
        },
        {
         "name": "Total",
         "rawType": "int64",
         "type": "integer"
        },
        {
         "name": "HP",
         "rawType": "int64",
         "type": "integer"
        },
        {
         "name": "Attack",
         "rawType": "int64",
         "type": "integer"
        },
        {
         "name": "Defense",
         "rawType": "int64",
         "type": "integer"
        },
        {
         "name": "Sp. Atk",
         "rawType": "int64",
         "type": "integer"
        },
        {
         "name": "Sp. Def",
         "rawType": "int64",
         "type": "integer"
        },
        {
         "name": "Speed",
         "rawType": "int64",
         "type": "integer"
        },
        {
         "name": "Generation",
         "rawType": "int64",
         "type": "integer"
        },
        {
         "name": "Legendary",
         "rawType": "bool",
         "type": "boolean"
        }
       ],
       "ref": "98df733a-d8ef-4394-a884-6e50d98be77d",
       "rows": [
        [
         "0",
         "1",
         "Bulbasaur",
         "Grass",
         "Poison",
         "318",
         "45",
         "49",
         "49",
         "65",
         "65",
         "45",
         "1",
         "False"
        ],
        [
         "1",
         "2",
         "Ivysaur",
         "Grass",
         "Poison",
         "405",
         "60",
         "62",
         "63",
         "80",
         "80",
         "60",
         "1",
         "False"
        ],
        [
         "2",
         "3",
         "Venusaur",
         "Grass",
         "Poison",
         "525",
         "80",
         "82",
         "83",
         "100",
         "100",
         "80",
         "1",
         "False"
        ],
        [
         "3",
         "3",
         "VenusaurMega Venusaur",
         "Grass",
         "Poison",
         "625",
         "80",
         "100",
         "123",
         "122",
         "120",
         "80",
         "1",
         "False"
        ],
        [
         "4",
         "4",
         "Charmander",
         "Fire",
         null,
         "309",
         "39",
         "52",
         "43",
         "60",
         "50",
         "65",
         "1",
         "False"
        ]
       ],
       "shape": {
        "columns": 13,
        "rows": 5
       }
      },
      "text/html": [
       "<div>\n",
       "<style scoped>\n",
       "    .dataframe tbody tr th:only-of-type {\n",
       "        vertical-align: middle;\n",
       "    }\n",
       "\n",
       "    .dataframe tbody tr th {\n",
       "        vertical-align: top;\n",
       "    }\n",
       "\n",
       "    .dataframe thead th {\n",
       "        text-align: right;\n",
       "    }\n",
       "</style>\n",
       "<table border=\"1\" class=\"dataframe\">\n",
       "  <thead>\n",
       "    <tr style=\"text-align: right;\">\n",
       "      <th></th>\n",
       "      <th>#</th>\n",
       "      <th>Name</th>\n",
       "      <th>Type 1</th>\n",
       "      <th>Type 2</th>\n",
       "      <th>Total</th>\n",
       "      <th>HP</th>\n",
       "      <th>Attack</th>\n",
       "      <th>Defense</th>\n",
       "      <th>Sp. Atk</th>\n",
       "      <th>Sp. Def</th>\n",
       "      <th>Speed</th>\n",
       "      <th>Generation</th>\n",
       "      <th>Legendary</th>\n",
       "    </tr>\n",
       "  </thead>\n",
       "  <tbody>\n",
       "    <tr>\n",
       "      <th>0</th>\n",
       "      <td>1</td>\n",
       "      <td>Bulbasaur</td>\n",
       "      <td>Grass</td>\n",
       "      <td>Poison</td>\n",
       "      <td>318</td>\n",
       "      <td>45</td>\n",
       "      <td>49</td>\n",
       "      <td>49</td>\n",
       "      <td>65</td>\n",
       "      <td>65</td>\n",
       "      <td>45</td>\n",
       "      <td>1</td>\n",
       "      <td>False</td>\n",
       "    </tr>\n",
       "    <tr>\n",
       "      <th>1</th>\n",
       "      <td>2</td>\n",
       "      <td>Ivysaur</td>\n",
       "      <td>Grass</td>\n",
       "      <td>Poison</td>\n",
       "      <td>405</td>\n",
       "      <td>60</td>\n",
       "      <td>62</td>\n",
       "      <td>63</td>\n",
       "      <td>80</td>\n",
       "      <td>80</td>\n",
       "      <td>60</td>\n",
       "      <td>1</td>\n",
       "      <td>False</td>\n",
       "    </tr>\n",
       "    <tr>\n",
       "      <th>2</th>\n",
       "      <td>3</td>\n",
       "      <td>Venusaur</td>\n",
       "      <td>Grass</td>\n",
       "      <td>Poison</td>\n",
       "      <td>525</td>\n",
       "      <td>80</td>\n",
       "      <td>82</td>\n",
       "      <td>83</td>\n",
       "      <td>100</td>\n",
       "      <td>100</td>\n",
       "      <td>80</td>\n",
       "      <td>1</td>\n",
       "      <td>False</td>\n",
       "    </tr>\n",
       "    <tr>\n",
       "      <th>3</th>\n",
       "      <td>3</td>\n",
       "      <td>VenusaurMega Venusaur</td>\n",
       "      <td>Grass</td>\n",
       "      <td>Poison</td>\n",
       "      <td>625</td>\n",
       "      <td>80</td>\n",
       "      <td>100</td>\n",
       "      <td>123</td>\n",
       "      <td>122</td>\n",
       "      <td>120</td>\n",
       "      <td>80</td>\n",
       "      <td>1</td>\n",
       "      <td>False</td>\n",
       "    </tr>\n",
       "    <tr>\n",
       "      <th>4</th>\n",
       "      <td>4</td>\n",
       "      <td>Charmander</td>\n",
       "      <td>Fire</td>\n",
       "      <td>NaN</td>\n",
       "      <td>309</td>\n",
       "      <td>39</td>\n",
       "      <td>52</td>\n",
       "      <td>43</td>\n",
       "      <td>60</td>\n",
       "      <td>50</td>\n",
       "      <td>65</td>\n",
       "      <td>1</td>\n",
       "      <td>False</td>\n",
       "    </tr>\n",
       "  </tbody>\n",
       "</table>\n",
       "</div>"
      ],
      "text/plain": [
       "   #                   Name Type 1  Type 2  Total  HP  Attack  Defense  \\\n",
       "0  1              Bulbasaur  Grass  Poison    318  45      49       49   \n",
       "1  2                Ivysaur  Grass  Poison    405  60      62       63   \n",
       "2  3               Venusaur  Grass  Poison    525  80      82       83   \n",
       "3  3  VenusaurMega Venusaur  Grass  Poison    625  80     100      123   \n",
       "4  4             Charmander   Fire     NaN    309  39      52       43   \n",
       "\n",
       "   Sp. Atk  Sp. Def  Speed  Generation  Legendary  \n",
       "0       65       65     45           1      False  \n",
       "1       80       80     60           1      False  \n",
       "2      100      100     80           1      False  \n",
       "3      122      120     80           1      False  \n",
       "4       60       50     65           1      False  "
      ]
     },
     "execution_count": 2,
     "metadata": {},
     "output_type": "execute_result"
    }
   ],
   "source": [
    "# Load the dataset (note the use of the Path object)\n",
    "df = pd.read_csv(Path(\"..\", \"datasets\", \"Pokemon.csv\"))\n",
    "\n",
    "# Let's take a look at the top rows in the table\n",
    "df.head()"
   ]
  },
  {
   "cell_type": "code",
   "execution_count": 3,
   "id": "b3b4ccfc",
   "metadata": {},
   "outputs": [
    {
     "name": "stdout",
     "output_type": "stream",
     "text": [
      "<class 'pandas.core.frame.DataFrame'>\n",
      "RangeIndex: 800 entries, 0 to 799\n",
      "Data columns (total 13 columns):\n",
      " #   Column      Non-Null Count  Dtype \n",
      "---  ------      --------------  ----- \n",
      " 0   #           800 non-null    int64 \n",
      " 1   Name        800 non-null    object\n",
      " 2   Type 1      800 non-null    object\n",
      " 3   Type 2      414 non-null    object\n",
      " 4   Total       800 non-null    int64 \n",
      " 5   HP          800 non-null    int64 \n",
      " 6   Attack      800 non-null    int64 \n",
      " 7   Defense     800 non-null    int64 \n",
      " 8   Sp. Atk     800 non-null    int64 \n",
      " 9   Sp. Def     800 non-null    int64 \n",
      " 10  Speed       800 non-null    int64 \n",
      " 11  Generation  800 non-null    int64 \n",
      " 12  Legendary   800 non-null    bool  \n",
      "dtypes: bool(1), int64(9), object(3)\n",
      "memory usage: 75.9+ KB\n"
     ]
    }
   ],
   "source": [
    "# Let's get some information about the columns in this table\n",
    "df.info()"
   ]
  },
  {
   "cell_type": "code",
   "execution_count": 4,
   "id": "3fb9f5f1",
   "metadata": {},
   "outputs": [
    {
     "data": {
      "application/vnd.microsoft.datawrangler.viewer.v0+json": {
       "columns": [
        {
         "name": "index",
         "rawType": "object",
         "type": "string"
        },
        {
         "name": "#",
         "rawType": "float64",
         "type": "float"
        },
        {
         "name": "Total",
         "rawType": "float64",
         "type": "float"
        },
        {
         "name": "HP",
         "rawType": "float64",
         "type": "float"
        },
        {
         "name": "Attack",
         "rawType": "float64",
         "type": "float"
        },
        {
         "name": "Defense",
         "rawType": "float64",
         "type": "float"
        },
        {
         "name": "Sp. Atk",
         "rawType": "float64",
         "type": "float"
        },
        {
         "name": "Sp. Def",
         "rawType": "float64",
         "type": "float"
        },
        {
         "name": "Speed",
         "rawType": "float64",
         "type": "float"
        },
        {
         "name": "Generation",
         "rawType": "float64",
         "type": "float"
        }
       ],
       "ref": "ce8536c0-14c1-4c9b-84c0-89ca38aac0b8",
       "rows": [
        [
         "count",
         "800.0",
         "800.0",
         "800.0",
         "800.0",
         "800.0",
         "800.0",
         "800.0",
         "800.0",
         "800.0"
        ],
        [
         "mean",
         "362.81375",
         "435.1025",
         "69.25875",
         "79.00125",
         "73.8425",
         "72.82",
         "71.9025",
         "68.2775",
         "3.32375"
        ],
        [
         "std",
         "208.34379756406662",
         "119.96303975551899",
         "25.53466903233207",
         "32.45736586949845",
         "31.183500559332934",
         "32.7222941688016",
         "27.82891579711746",
         "29.060473717161464",
         "1.6612904004849451"
        ],
        [
         "min",
         "1.0",
         "180.0",
         "1.0",
         "5.0",
         "5.0",
         "10.0",
         "20.0",
         "5.0",
         "1.0"
        ],
        [
         "25%",
         "184.75",
         "330.0",
         "50.0",
         "55.0",
         "50.0",
         "49.75",
         "50.0",
         "45.0",
         "2.0"
        ],
        [
         "50%",
         "364.5",
         "450.0",
         "65.0",
         "75.0",
         "70.0",
         "65.0",
         "70.0",
         "65.0",
         "3.0"
        ],
        [
         "75%",
         "539.25",
         "515.0",
         "80.0",
         "100.0",
         "90.0",
         "95.0",
         "90.0",
         "90.0",
         "5.0"
        ],
        [
         "max",
         "721.0",
         "780.0",
         "255.0",
         "190.0",
         "230.0",
         "194.0",
         "230.0",
         "180.0",
         "6.0"
        ]
       ],
       "shape": {
        "columns": 9,
        "rows": 8
       }
      },
      "text/html": [
       "<div>\n",
       "<style scoped>\n",
       "    .dataframe tbody tr th:only-of-type {\n",
       "        vertical-align: middle;\n",
       "    }\n",
       "\n",
       "    .dataframe tbody tr th {\n",
       "        vertical-align: top;\n",
       "    }\n",
       "\n",
       "    .dataframe thead th {\n",
       "        text-align: right;\n",
       "    }\n",
       "</style>\n",
       "<table border=\"1\" class=\"dataframe\">\n",
       "  <thead>\n",
       "    <tr style=\"text-align: right;\">\n",
       "      <th></th>\n",
       "      <th>#</th>\n",
       "      <th>Total</th>\n",
       "      <th>HP</th>\n",
       "      <th>Attack</th>\n",
       "      <th>Defense</th>\n",
       "      <th>Sp. Atk</th>\n",
       "      <th>Sp. Def</th>\n",
       "      <th>Speed</th>\n",
       "      <th>Generation</th>\n",
       "    </tr>\n",
       "  </thead>\n",
       "  <tbody>\n",
       "    <tr>\n",
       "      <th>count</th>\n",
       "      <td>800.000000</td>\n",
       "      <td>800.00000</td>\n",
       "      <td>800.000000</td>\n",
       "      <td>800.000000</td>\n",
       "      <td>800.000000</td>\n",
       "      <td>800.000000</td>\n",
       "      <td>800.000000</td>\n",
       "      <td>800.000000</td>\n",
       "      <td>800.00000</td>\n",
       "    </tr>\n",
       "    <tr>\n",
       "      <th>mean</th>\n",
       "      <td>362.813750</td>\n",
       "      <td>435.10250</td>\n",
       "      <td>69.258750</td>\n",
       "      <td>79.001250</td>\n",
       "      <td>73.842500</td>\n",
       "      <td>72.820000</td>\n",
       "      <td>71.902500</td>\n",
       "      <td>68.277500</td>\n",
       "      <td>3.32375</td>\n",
       "    </tr>\n",
       "    <tr>\n",
       "      <th>std</th>\n",
       "      <td>208.343798</td>\n",
       "      <td>119.96304</td>\n",
       "      <td>25.534669</td>\n",
       "      <td>32.457366</td>\n",
       "      <td>31.183501</td>\n",
       "      <td>32.722294</td>\n",
       "      <td>27.828916</td>\n",
       "      <td>29.060474</td>\n",
       "      <td>1.66129</td>\n",
       "    </tr>\n",
       "    <tr>\n",
       "      <th>min</th>\n",
       "      <td>1.000000</td>\n",
       "      <td>180.00000</td>\n",
       "      <td>1.000000</td>\n",
       "      <td>5.000000</td>\n",
       "      <td>5.000000</td>\n",
       "      <td>10.000000</td>\n",
       "      <td>20.000000</td>\n",
       "      <td>5.000000</td>\n",
       "      <td>1.00000</td>\n",
       "    </tr>\n",
       "    <tr>\n",
       "      <th>25%</th>\n",
       "      <td>184.750000</td>\n",
       "      <td>330.00000</td>\n",
       "      <td>50.000000</td>\n",
       "      <td>55.000000</td>\n",
       "      <td>50.000000</td>\n",
       "      <td>49.750000</td>\n",
       "      <td>50.000000</td>\n",
       "      <td>45.000000</td>\n",
       "      <td>2.00000</td>\n",
       "    </tr>\n",
       "    <tr>\n",
       "      <th>50%</th>\n",
       "      <td>364.500000</td>\n",
       "      <td>450.00000</td>\n",
       "      <td>65.000000</td>\n",
       "      <td>75.000000</td>\n",
       "      <td>70.000000</td>\n",
       "      <td>65.000000</td>\n",
       "      <td>70.000000</td>\n",
       "      <td>65.000000</td>\n",
       "      <td>3.00000</td>\n",
       "    </tr>\n",
       "    <tr>\n",
       "      <th>75%</th>\n",
       "      <td>539.250000</td>\n",
       "      <td>515.00000</td>\n",
       "      <td>80.000000</td>\n",
       "      <td>100.000000</td>\n",
       "      <td>90.000000</td>\n",
       "      <td>95.000000</td>\n",
       "      <td>90.000000</td>\n",
       "      <td>90.000000</td>\n",
       "      <td>5.00000</td>\n",
       "    </tr>\n",
       "    <tr>\n",
       "      <th>max</th>\n",
       "      <td>721.000000</td>\n",
       "      <td>780.00000</td>\n",
       "      <td>255.000000</td>\n",
       "      <td>190.000000</td>\n",
       "      <td>230.000000</td>\n",
       "      <td>194.000000</td>\n",
       "      <td>230.000000</td>\n",
       "      <td>180.000000</td>\n",
       "      <td>6.00000</td>\n",
       "    </tr>\n",
       "  </tbody>\n",
       "</table>\n",
       "</div>"
      ],
      "text/plain": [
       "                #      Total          HP      Attack     Defense     Sp. Atk  \\\n",
       "count  800.000000  800.00000  800.000000  800.000000  800.000000  800.000000   \n",
       "mean   362.813750  435.10250   69.258750   79.001250   73.842500   72.820000   \n",
       "std    208.343798  119.96304   25.534669   32.457366   31.183501   32.722294   \n",
       "min      1.000000  180.00000    1.000000    5.000000    5.000000   10.000000   \n",
       "25%    184.750000  330.00000   50.000000   55.000000   50.000000   49.750000   \n",
       "50%    364.500000  450.00000   65.000000   75.000000   70.000000   65.000000   \n",
       "75%    539.250000  515.00000   80.000000  100.000000   90.000000   95.000000   \n",
       "max    721.000000  780.00000  255.000000  190.000000  230.000000  194.000000   \n",
       "\n",
       "          Sp. Def       Speed  Generation  \n",
       "count  800.000000  800.000000   800.00000  \n",
       "mean    71.902500   68.277500     3.32375  \n",
       "std     27.828916   29.060474     1.66129  \n",
       "min     20.000000    5.000000     1.00000  \n",
       "25%     50.000000   45.000000     2.00000  \n",
       "50%     70.000000   65.000000     3.00000  \n",
       "75%     90.000000   90.000000     5.00000  \n",
       "max    230.000000  180.000000     6.00000  "
      ]
     },
     "execution_count": 4,
     "metadata": {},
     "output_type": "execute_result"
    }
   ],
   "source": [
    "# See standard descriptive statistics about each column\n",
    "df.describe()"
   ]
  },
  {
   "cell_type": "code",
   "execution_count": 5,
   "id": "bb8f76d5",
   "metadata": {},
   "outputs": [
    {
     "data": {
      "application/vnd.microsoft.datawrangler.viewer.v0+json": {
       "columns": [
        {
         "name": "index",
         "rawType": "int64",
         "type": "integer"
        },
        {
         "name": "#",
         "rawType": "int64",
         "type": "integer"
        },
        {
         "name": "Name",
         "rawType": "object",
         "type": "string"
        },
        {
         "name": "Type1",
         "rawType": "object",
         "type": "string"
        },
        {
         "name": "Type2",
         "rawType": "object",
         "type": "unknown"
        },
        {
         "name": "Total",
         "rawType": "int64",
         "type": "integer"
        },
        {
         "name": "HP",
         "rawType": "int64",
         "type": "integer"
        },
        {
         "name": "Attack",
         "rawType": "int64",
         "type": "integer"
        },
        {
         "name": "Defense",
         "rawType": "int64",
         "type": "integer"
        },
        {
         "name": "SpAtk",
         "rawType": "int64",
         "type": "integer"
        },
        {
         "name": "SpDef",
         "rawType": "int64",
         "type": "integer"
        },
        {
         "name": "Speed",
         "rawType": "int64",
         "type": "integer"
        },
        {
         "name": "Generation",
         "rawType": "int64",
         "type": "integer"
        },
        {
         "name": "Legendary",
         "rawType": "bool",
         "type": "boolean"
        }
       ],
       "ref": "837effa4-4aac-45cf-9b9c-fb9dd8508e1d",
       "rows": [
        [
         "0",
         "1",
         "Bulbasaur",
         "Grass",
         "Poison",
         "318",
         "45",
         "49",
         "49",
         "65",
         "65",
         "45",
         "1",
         "False"
        ],
        [
         "1",
         "2",
         "Ivysaur",
         "Grass",
         "Poison",
         "405",
         "60",
         "62",
         "63",
         "80",
         "80",
         "60",
         "1",
         "False"
        ],
        [
         "2",
         "3",
         "Venusaur",
         "Grass",
         "Poison",
         "525",
         "80",
         "82",
         "83",
         "100",
         "100",
         "80",
         "1",
         "False"
        ],
        [
         "3",
         "3",
         "VenusaurMega Venusaur",
         "Grass",
         "Poison",
         "625",
         "80",
         "100",
         "123",
         "122",
         "120",
         "80",
         "1",
         "False"
        ],
        [
         "4",
         "4",
         "Charmander",
         "Fire",
         null,
         "309",
         "39",
         "52",
         "43",
         "60",
         "50",
         "65",
         "1",
         "False"
        ]
       ],
       "shape": {
        "columns": 13,
        "rows": 5
       }
      },
      "text/html": [
       "<div>\n",
       "<style scoped>\n",
       "    .dataframe tbody tr th:only-of-type {\n",
       "        vertical-align: middle;\n",
       "    }\n",
       "\n",
       "    .dataframe tbody tr th {\n",
       "        vertical-align: top;\n",
       "    }\n",
       "\n",
       "    .dataframe thead th {\n",
       "        text-align: right;\n",
       "    }\n",
       "</style>\n",
       "<table border=\"1\" class=\"dataframe\">\n",
       "  <thead>\n",
       "    <tr style=\"text-align: right;\">\n",
       "      <th></th>\n",
       "      <th>#</th>\n",
       "      <th>Name</th>\n",
       "      <th>Type1</th>\n",
       "      <th>Type2</th>\n",
       "      <th>Total</th>\n",
       "      <th>HP</th>\n",
       "      <th>Attack</th>\n",
       "      <th>Defense</th>\n",
       "      <th>SpAtk</th>\n",
       "      <th>SpDef</th>\n",
       "      <th>Speed</th>\n",
       "      <th>Generation</th>\n",
       "      <th>Legendary</th>\n",
       "    </tr>\n",
       "  </thead>\n",
       "  <tbody>\n",
       "    <tr>\n",
       "      <th>0</th>\n",
       "      <td>1</td>\n",
       "      <td>Bulbasaur</td>\n",
       "      <td>Grass</td>\n",
       "      <td>Poison</td>\n",
       "      <td>318</td>\n",
       "      <td>45</td>\n",
       "      <td>49</td>\n",
       "      <td>49</td>\n",
       "      <td>65</td>\n",
       "      <td>65</td>\n",
       "      <td>45</td>\n",
       "      <td>1</td>\n",
       "      <td>False</td>\n",
       "    </tr>\n",
       "    <tr>\n",
       "      <th>1</th>\n",
       "      <td>2</td>\n",
       "      <td>Ivysaur</td>\n",
       "      <td>Grass</td>\n",
       "      <td>Poison</td>\n",
       "      <td>405</td>\n",
       "      <td>60</td>\n",
       "      <td>62</td>\n",
       "      <td>63</td>\n",
       "      <td>80</td>\n",
       "      <td>80</td>\n",
       "      <td>60</td>\n",
       "      <td>1</td>\n",
       "      <td>False</td>\n",
       "    </tr>\n",
       "    <tr>\n",
       "      <th>2</th>\n",
       "      <td>3</td>\n",
       "      <td>Venusaur</td>\n",
       "      <td>Grass</td>\n",
       "      <td>Poison</td>\n",
       "      <td>525</td>\n",
       "      <td>80</td>\n",
       "      <td>82</td>\n",
       "      <td>83</td>\n",
       "      <td>100</td>\n",
       "      <td>100</td>\n",
       "      <td>80</td>\n",
       "      <td>1</td>\n",
       "      <td>False</td>\n",
       "    </tr>\n",
       "    <tr>\n",
       "      <th>3</th>\n",
       "      <td>3</td>\n",
       "      <td>VenusaurMega Venusaur</td>\n",
       "      <td>Grass</td>\n",
       "      <td>Poison</td>\n",
       "      <td>625</td>\n",
       "      <td>80</td>\n",
       "      <td>100</td>\n",
       "      <td>123</td>\n",
       "      <td>122</td>\n",
       "      <td>120</td>\n",
       "      <td>80</td>\n",
       "      <td>1</td>\n",
       "      <td>False</td>\n",
       "    </tr>\n",
       "    <tr>\n",
       "      <th>4</th>\n",
       "      <td>4</td>\n",
       "      <td>Charmander</td>\n",
       "      <td>Fire</td>\n",
       "      <td>NaN</td>\n",
       "      <td>309</td>\n",
       "      <td>39</td>\n",
       "      <td>52</td>\n",
       "      <td>43</td>\n",
       "      <td>60</td>\n",
       "      <td>50</td>\n",
       "      <td>65</td>\n",
       "      <td>1</td>\n",
       "      <td>False</td>\n",
       "    </tr>\n",
       "  </tbody>\n",
       "</table>\n",
       "</div>"
      ],
      "text/plain": [
       "   #                   Name  Type1   Type2  Total  HP  Attack  Defense  SpAtk  \\\n",
       "0  1              Bulbasaur  Grass  Poison    318  45      49       49     65   \n",
       "1  2                Ivysaur  Grass  Poison    405  60      62       63     80   \n",
       "2  3               Venusaur  Grass  Poison    525  80      82       83    100   \n",
       "3  3  VenusaurMega Venusaur  Grass  Poison    625  80     100      123    122   \n",
       "4  4             Charmander   Fire     NaN    309  39      52       43     60   \n",
       "\n",
       "   SpDef  Speed  Generation  Legendary  \n",
       "0     65     45           1      False  \n",
       "1     80     60           1      False  \n",
       "2    100     80           1      False  \n",
       "3    120     80           1      False  \n",
       "4     50     65           1      False  "
      ]
     },
     "execution_count": 5,
     "metadata": {},
     "output_type": "execute_result"
    }
   ],
   "source": [
    "# It's not good practice to have column names with spaces and other non-standard\n",
    "# characters, so let's fix this by renaming the columns to standard names\n",
    "df.rename(columns={\n",
    "    \"Type 1\" : \"Type1\",\n",
    "    \"Type 2\" : \"Type2\",\n",
    "    \"Sp. Atk\" : \"SpAtk\",\n",
    "    \"Sp. Def\" : \"SpDef\",\n",
    "}, inplace=True)\n",
    "\n",
    "df.head()"
   ]
  },
  {
   "cell_type": "code",
   "execution_count": 6,
   "id": "9aba0245",
   "metadata": {},
   "outputs": [
    {
     "data": {
      "application/vnd.microsoft.datawrangler.viewer.v0+json": {
       "columns": [
        {
         "name": "index",
         "rawType": "object",
         "type": "string"
        },
        {
         "name": "0",
         "rawType": "int64",
         "type": "integer"
        }
       ],
       "ref": "e4e75d75-c152-457f-b291-badaeda5c8bd",
       "rows": [
        [
         "#",
         "0"
        ],
        [
         "Name",
         "0"
        ],
        [
         "Type1",
         "0"
        ],
        [
         "Type2",
         "386"
        ],
        [
         "Total",
         "0"
        ],
        [
         "HP",
         "0"
        ],
        [
         "Attack",
         "0"
        ],
        [
         "Defense",
         "0"
        ],
        [
         "SpAtk",
         "0"
        ],
        [
         "SpDef",
         "0"
        ],
        [
         "Speed",
         "0"
        ],
        [
         "Generation",
         "0"
        ],
        [
         "Legendary",
         "0"
        ]
       ],
       "shape": {
        "columns": 1,
        "rows": 13
       }
      },
      "text/plain": [
       "#               0\n",
       "Name            0\n",
       "Type1           0\n",
       "Type2         386\n",
       "Total           0\n",
       "HP              0\n",
       "Attack          0\n",
       "Defense         0\n",
       "SpAtk           0\n",
       "SpDef           0\n",
       "Speed           0\n",
       "Generation      0\n",
       "Legendary       0\n",
       "dtype: int64"
      ]
     },
     "execution_count": 6,
     "metadata": {},
     "output_type": "execute_result"
    }
   ],
   "source": [
    "# Do we have missing values in any of the columns?\n",
    "na_counts = df.isna().sum()\n",
    "\n",
    "na_counts"
   ]
  },
  {
   "cell_type": "code",
   "execution_count": 7,
   "id": "34d2aa1e",
   "metadata": {},
   "outputs": [],
   "source": [
    "# We seem to have missing values in the \"Type2\" column; let's replace them with\n",
    "# the string \"None\"\n",
    "df[\"Type2\"] = df[\"Type2\"].fillna(\"None\")"
   ]
  },
  {
   "cell_type": "code",
   "execution_count": 8,
   "id": "38affcaf",
   "metadata": {},
   "outputs": [
    {
     "name": "stdout",
     "output_type": "stream",
     "text": [
      "<class 'pandas.core.frame.DataFrame'>\n",
      "RangeIndex: 800 entries, 0 to 799\n",
      "Data columns (total 13 columns):\n",
      " #   Column      Non-Null Count  Dtype   \n",
      "---  ------      --------------  -----   \n",
      " 0   #           800 non-null    int64   \n",
      " 1   Name        800 non-null    object  \n",
      " 2   Type1       800 non-null    category\n",
      " 3   Type2       800 non-null    category\n",
      " 4   Total       800 non-null    int64   \n",
      " 5   HP          800 non-null    int64   \n",
      " 6   Attack      800 non-null    int64   \n",
      " 7   Defense     800 non-null    int64   \n",
      " 8   SpAtk       800 non-null    int64   \n",
      " 9   SpDef       800 non-null    int64   \n",
      " 10  Speed       800 non-null    int64   \n",
      " 11  Generation  800 non-null    int64   \n",
      " 12  Legendary   800 non-null    bool    \n",
      "dtypes: bool(1), category(2), int64(9), object(1)\n",
      "memory usage: 66.3+ KB\n"
     ]
    }
   ],
   "source": [
    "# Since primary and secondary types are essentially categories (and not just\n",
    "# strings / objects), we can convert these columns to the category type\n",
    "df[\"Type1\"] = df[\"Type1\"].astype(\"category\")\n",
    "df[\"Type2\"] = df[\"Type2\"].astype(\"category\")\n",
    "\n",
    "# Let's look at the column information now\n",
    "df.info()"
   ]
  },
  {
   "cell_type": "markdown",
   "id": "648147a5",
   "metadata": {},
   "source": [
    "## Part 2: Classifying legendary and non-legendary Pokémons with a decision tree classifier"
   ]
  },
  {
   "cell_type": "code",
   "execution_count": 9,
   "id": "e8dde7ce",
   "metadata": {},
   "outputs": [],
   "source": [
    "# Get X matrix and y vector\n",
    "\n",
    "# Let's use all features except the Total, which can be considered redundant\n",
    "# since it's the total of the other features\n",
    "features = [\"HP\", \"Attack\", \"Defense\", \"SpAtk\", \"SpDef\", \"Speed\"]\n",
    "\n",
    "# Get only the specified features\n",
    "df_X = df[features]\n",
    "\n",
    "# Our labels will be the legendary status\n",
    "y = df[\"Legendary\"]"
   ]
  },
  {
   "cell_type": "code",
   "execution_count": 10,
   "id": "d5e84192",
   "metadata": {},
   "outputs": [],
   "source": [
    "# Generally, we need to center and scale feature data before applying any ML\n",
    "# algorithm. The StandardScaler class, with its default options, centers and\n",
    "# scales each feature so that it has zero mean and standard deviation = 1\n",
    "ss = StandardScaler()\n",
    "\n",
    "# Since the Pokémon feature data has very similar dimensions, scaling is not so\n",
    "# critical. On the other hand, the Decision Tree classifier we'll use next is\n",
    "# more easily interpretable if we keep the features in their original format.\n",
    "# Therefore, change the following variable to True in order to perform scaling\n",
    "# (which should generally be the case).\n",
    "do_scale = False\n",
    "\n",
    "if do_scale:\n",
    "    X = ss.fit_transform(df_X)\n",
    "else:\n",
    "    X = df_X.to_numpy() # The .to_numpy() is not strictly necessary here (ask me in class why I put it here)"
   ]
  },
  {
   "cell_type": "code",
   "execution_count": 11,
   "id": "bff160de",
   "metadata": {},
   "outputs": [],
   "source": [
    "# Let's split our data into training (80%) and test (20%) sets\n",
    "# Change the random_state parameter do split data in different ways\n",
    "X_train, X_test, y_train, y_test = train_test_split(X, y, test_size=0.2, random_state=42)"
   ]
  },
  {
   "cell_type": "code",
   "execution_count": 12,
   "id": "fd95bcb9",
   "metadata": {},
   "outputs": [],
   "source": [
    "# Create a decision tree classifier with maximum depth set to 3\n",
    "dtClf = DecisionTreeClassifier(max_depth=3)\n",
    "\n",
    "# Let's train the classifier with the training data (we do that with the .fit() method)\n",
    "dtClf.fit(X_train, y_train)\n",
    "\n",
    "# Let's make a prediction about the legendary status according to the features in the test set\n",
    "y_pred = dtClf.predict(X_test)"
   ]
  },
  {
   "cell_type": "code",
   "execution_count": 13,
   "id": "a8a151eb",
   "metadata": {},
   "outputs": [
    {
     "name": "stdout",
     "output_type": "stream",
     "text": [
      "Accuracy (by hand)                 : 0.95625\n",
      "Accuracy (sklearn function)        : 0.95625\n",
      "Accuracy (directly from classifier): 0.95625\n"
     ]
    }
   ],
   "source": [
    "# Let's see how accurate our prediction was\n",
    "\n",
    "# Remember that accuracy is the number of correct predictions over the total\n",
    "# number of predictions\n",
    "comp = y_pred == y_test\n",
    "acc1 = sum(comp) / len(comp)\n",
    "print(f\"Accuracy (by hand)                 : {acc1}\")\n",
    "\n",
    "# Scikit-learn allows provides a function to determine accuracy\n",
    "acc2 = accuracy_score(y_pred, y_test)\n",
    "print(f\"Accuracy (sklearn function)        : {acc2}\")\n",
    "\n",
    "# If we don't need the predicted results and are only interested in the\n",
    "# accuracy score, we can predict() and get the accuracy in one go\n",
    "acc3 = dtClf.score(X_test, y_test)\n",
    "print(f\"Accuracy (directly from classifier): {acc3}\")"
   ]
  },
  {
   "cell_type": "code",
   "execution_count": 14,
   "id": "29f7aeec",
   "metadata": {},
   "outputs": [
    {
     "name": "stdout",
     "output_type": "stream",
     "text": [
      "|--- SpAtk <= 118.00\n",
      "|   |--- SpDef <= 99.50\n",
      "|   |   |--- Speed <= 170.00\n",
      "|   |   |   |--- class: False\n",
      "|   |   |--- Speed >  170.00\n",
      "|   |   |   |--- class: True\n",
      "|   |--- SpDef >  99.50\n",
      "|   |   |--- Speed <= 83.00\n",
      "|   |   |   |--- class: False\n",
      "|   |   |--- Speed >  83.00\n",
      "|   |   |   |--- class: False\n",
      "|--- SpAtk >  118.00\n",
      "|   |--- Attack <= 82.50\n",
      "|   |   |--- class: False\n",
      "|   |--- Attack >  82.50\n",
      "|   |   |--- HP <= 97.50\n",
      "|   |   |   |--- class: False\n",
      "|   |   |--- HP >  97.50\n",
      "|   |   |   |--- class: True\n",
      "\n"
     ]
    }
   ],
   "source": [
    "# Decision trees are a very intuitive ML method, so let's take a look at the\n",
    "# generated tree itself\n",
    "\n",
    "# First, by printing a text representation of the tree\n",
    "print(export_text(dtClf, feature_names=features, decimals=2, show_weights=False))"
   ]
  },
  {
   "cell_type": "code",
   "execution_count": 15,
   "id": "cf0f684d",
   "metadata": {},
   "outputs": [
    {
     "data": {
      "image/png": "[encoded data removed]",
      "text/plain": [
       "<Figure size 800x500 with 1 Axes>"
      ]
     },
     "metadata": {},
     "output_type": "display_data"
    }
   ],
   "source": [
    "\n",
    "# Second, by creating an actual image of the tree\n",
    "\n",
    "# Let's instantiate an empty figure\n",
    "fig, ax = plt.subplots(figsize=(8, 5))\n",
    "\n",
    "# And plot the tree on that figure\n",
    "plot_tree(\n",
    "    dtClf,\n",
    "    feature_names=features,\n",
    "    filled=True,\n",
    "    rounded=True,\n",
    "    impurity=False,\n",
    "    proportion=True,\n",
    "    fontsize=9,\n",
    "    ax=ax)\n",
    "\n",
    "fig.tight_layout()"
   ]
  },
  {
   "cell_type": "markdown",
   "id": "11e7c0ab",
   "metadata": {},
   "source": [
    "## Part 3: Classifying legendary and non-legendary Pokémons with the $k$-Nearest Neighbors algorithm"
   ]
  },
  {
   "cell_type": "code",
   "execution_count": 16,
   "id": "76e075ff",
   "metadata": {},
   "outputs": [
    {
     "name": "stdout",
     "output_type": "stream",
     "text": [
      "Accuracy (directly from classifier): 0.9375\n"
     ]
    }
   ],
   "source": [
    "# Let's follow the same approach as before, and instantiate a new kNN classifier\n",
    "# which uses the 5 nearest neighbors to classify new data\n",
    "knnClf = KNeighborsClassifier(n_neighbors=5)\n",
    "\n",
    "# Let's train our kNN classifier; this is very fast, since it doesn't really\n",
    "# train anything, it just keeps the training set internally in a list\n",
    "knnClf.fit(X_train, y_train)\n",
    "\n",
    "# This time we'll predict and get an accuracy score in one go using the .score()\n",
    "# method, which internally calls the .predict() method + the accuracy_score()\n",
    "# function\n",
    "acc_knn = knnClf.score(X_test, y_test)\n",
    "\n",
    "# Unlike most ML algorithms, k-NN has very fast training but relatively\n",
    "# expensive prediction (inference), since each new test point must be compared\n",
    "# against the stored training examples\n",
    "\n",
    "print(f\"Accuracy (directly from classifier): {acc_knn}\")"
   ]
  },
  {
   "cell_type": "markdown",
   "id": "fb67d4a8",
   "metadata": {},
   "source": [
    "## Part 4: Homework"
   ]
  },
  {
   "cell_type": "markdown",
   "id": "97a7458a",
   "metadata": {},
   "source": [
    "### Basic statistics of Pokémon features before and after scaling"
   ]
  },
  {
   "cell_type": "code",
   "execution_count": 17,
   "id": "56eb3705",
   "metadata": {},
   "outputs": [
    {
     "name": "stdout",
     "output_type": "stream",
     "text": [
      "Before Standard Scaling:\n"
     ]
    },
    {
     "data": {
      "application/vnd.microsoft.datawrangler.viewer.v0+json": {
       "columns": [
        {
         "name": "index",
         "rawType": "object",
         "type": "string"
        },
        {
         "name": "HP",
         "rawType": "float64",
         "type": "float"
        },
        {
         "name": "Attack",
         "rawType": "float64",
         "type": "float"
        },
        {
         "name": "Defense",
         "rawType": "float64",
         "type": "float"
        },
        {
         "name": "SpAtk",
         "rawType": "float64",
         "type": "float"
        },
        {
         "name": "SpDef",
         "rawType": "float64",
         "type": "float"
        },
        {
         "name": "Speed",
         "rawType": "float64",
         "type": "float"
        }
       ],
       "ref": "a67bd2c1-47e2-43b4-a9ba-c6811026b07a",
       "rows": [
        [
         "count",
         "800.0",
         "800.0",
         "800.0",
         "800.0",
         "800.0",
         "800.0"
        ],
        [
         "mean",
         "69.259",
         "79.001",
         "73.842",
         "72.82",
         "71.902",
         "68.278"
        ],
        [
         "std",
         "25.535",
         "32.457",
         "31.184",
         "32.722",
         "27.829",
         "29.06"
        ],
        [
         "min",
         "1.0",
         "5.0",
         "5.0",
         "10.0",
         "20.0",
         "5.0"
        ],
        [
         "25%",
         "50.0",
         "55.0",
         "50.0",
         "49.75",
         "50.0",
         "45.0"
        ],
        [
         "50%",
         "65.0",
         "75.0",
         "70.0",
         "65.0",
         "70.0",
         "65.0"
        ],
        [
         "75%",
         "80.0",
         "100.0",
         "90.0",
         "95.0",
         "90.0",
         "90.0"
        ],
        [
         "max",
         "255.0",
         "190.0",
         "230.0",
         "194.0",
         "230.0",
         "180.0"
        ]
       ],
       "shape": {
        "columns": 6,
        "rows": 8
       }
      },
      "text/html": [
       "<div>\n",
       "<style scoped>\n",
       "    .dataframe tbody tr th:only-of-type {\n",
       "        vertical-align: middle;\n",
       "    }\n",
       "\n",
       "    .dataframe tbody tr th {\n",
       "        vertical-align: top;\n",
       "    }\n",
       "\n",
       "    .dataframe thead th {\n",
       "        text-align: right;\n",
       "    }\n",
       "</style>\n",
       "<table border=\"1\" class=\"dataframe\">\n",
       "  <thead>\n",
       "    <tr style=\"text-align: right;\">\n",
       "      <th></th>\n",
       "      <th>HP</th>\n",
       "      <th>Attack</th>\n",
       "      <th>Defense</th>\n",
       "      <th>SpAtk</th>\n",
       "      <th>SpDef</th>\n",
       "      <th>Speed</th>\n",
       "    </tr>\n",
       "  </thead>\n",
       "  <tbody>\n",
       "    <tr>\n",
       "      <th>count</th>\n",
       "      <td>800.000</td>\n",
       "      <td>800.000</td>\n",
       "      <td>800.000</td>\n",
       "      <td>800.000</td>\n",
       "      <td>800.000</td>\n",
       "      <td>800.000</td>\n",
       "    </tr>\n",
       "    <tr>\n",
       "      <th>mean</th>\n",
       "      <td>69.259</td>\n",
       "      <td>79.001</td>\n",
       "      <td>73.842</td>\n",
       "      <td>72.820</td>\n",
       "      <td>71.902</td>\n",
       "      <td>68.278</td>\n",
       "    </tr>\n",
       "    <tr>\n",
       "      <th>std</th>\n",
       "      <td>25.535</td>\n",
       "      <td>32.457</td>\n",
       "      <td>31.184</td>\n",
       "      <td>32.722</td>\n",
       "      <td>27.829</td>\n",
       "      <td>29.060</td>\n",
       "    </tr>\n",
       "    <tr>\n",
       "      <th>min</th>\n",
       "      <td>1.000</td>\n",
       "      <td>5.000</td>\n",
       "      <td>5.000</td>\n",
       "      <td>10.000</td>\n",
       "      <td>20.000</td>\n",
       "      <td>5.000</td>\n",
       "    </tr>\n",
       "    <tr>\n",
       "      <th>25%</th>\n",
       "      <td>50.000</td>\n",
       "      <td>55.000</td>\n",
       "      <td>50.000</td>\n",
       "      <td>49.750</td>\n",
       "      <td>50.000</td>\n",
       "      <td>45.000</td>\n",
       "    </tr>\n",
       "    <tr>\n",
       "      <th>50%</th>\n",
       "      <td>65.000</td>\n",
       "      <td>75.000</td>\n",
       "      <td>70.000</td>\n",
       "      <td>65.000</td>\n",
       "      <td>70.000</td>\n",
       "      <td>65.000</td>\n",
       "    </tr>\n",
       "    <tr>\n",
       "      <th>75%</th>\n",
       "      <td>80.000</td>\n",
       "      <td>100.000</td>\n",
       "      <td>90.000</td>\n",
       "      <td>95.000</td>\n",
       "      <td>90.000</td>\n",
       "      <td>90.000</td>\n",
       "    </tr>\n",
       "    <tr>\n",
       "      <th>max</th>\n",
       "      <td>255.000</td>\n",
       "      <td>190.000</td>\n",
       "      <td>230.000</td>\n",
       "      <td>194.000</td>\n",
       "      <td>230.000</td>\n",
       "      <td>180.000</td>\n",
       "    </tr>\n",
       "  </tbody>\n",
       "</table>\n",
       "</div>"
      ],
      "text/plain": [
       "            HP   Attack  Defense    SpAtk    SpDef    Speed\n",
       "count  800.000  800.000  800.000  800.000  800.000  800.000\n",
       "mean    69.259   79.001   73.842   72.820   71.902   68.278\n",
       "std     25.535   32.457   31.184   32.722   27.829   29.060\n",
       "min      1.000    5.000    5.000   10.000   20.000    5.000\n",
       "25%     50.000   55.000   50.000   49.750   50.000   45.000\n",
       "50%     65.000   75.000   70.000   65.000   70.000   65.000\n",
       "75%     80.000  100.000   90.000   95.000   90.000   90.000\n",
       "max    255.000  190.000  230.000  194.000  230.000  180.000"
      ]
     },
     "execution_count": 17,
     "metadata": {},
     "output_type": "execute_result"
    }
   ],
   "source": [
    "print(\"Before Standard Scaling:\")\n",
    "df_X.describe().round(3)"
   ]
  },
  {
   "cell_type": "code",
   "execution_count": 18,
   "id": "4cba7604",
   "metadata": {},
   "outputs": [
    {
     "name": "stdout",
     "output_type": "stream",
     "text": [
      "After Standard Scaling:\n"
     ]
    },
    {
     "data": {
      "application/vnd.microsoft.datawrangler.viewer.v0+json": {
       "columns": [
        {
         "name": "index",
         "rawType": "object",
         "type": "string"
        },
        {
         "name": "HP",
         "rawType": "float64",
         "type": "float"
        },
        {
         "name": "Attack",
         "rawType": "float64",
         "type": "float"
        },
        {
         "name": "Defense",
         "rawType": "float64",
         "type": "float"
        },
        {
         "name": "SpAtk",
         "rawType": "float64",
         "type": "float"
        },
        {
         "name": "SpDef",
         "rawType": "float64",
         "type": "float"
        },
        {
         "name": "Speed",
         "rawType": "float64",
         "type": "float"
        }
       ],
       "ref": "1a717de8-1471-419f-9b70-b6681ef7f6aa",
       "rows": [
        [
         "count",
         "800.0",
         "800.0",
         "800.0",
         "800.0",
         "800.0",
         "800.0"
        ],
        [
         "mean",
         "-0.0",
         "0.0",
         "-0.0",
         "0.0",
         "-0.0",
         "-0.0"
        ],
        [
         "std",
         "1.001",
         "1.001",
         "1.001",
         "1.001",
         "1.001",
         "1.001"
        ],
        [
         "min",
         "-2.675",
         "-2.281",
         "-2.209",
         "-1.921",
         "-1.866",
         "-2.179"
        ],
        [
         "25%",
         "-0.755",
         "-0.74",
         "-0.765",
         "-0.705",
         "-0.788",
         "-0.802"
        ],
        [
         "50%",
         "-0.167",
         "-0.123",
         "-0.123",
         "-0.239",
         "-0.068",
         "-0.113"
        ],
        [
         "75%",
         "0.421",
         "0.647",
         "0.518",
         "0.678",
         "0.651",
         "0.748"
        ],
        [
         "max",
         "7.279",
         "3.422",
         "5.011",
         "3.706",
         "5.685",
         "3.847"
        ]
       ],
       "shape": {
        "columns": 6,
        "rows": 8
       }
      },
      "text/html": [
       "<div>\n",
       "<style scoped>\n",
       "    .dataframe tbody tr th:only-of-type {\n",
       "        vertical-align: middle;\n",
       "    }\n",
       "\n",
       "    .dataframe tbody tr th {\n",
       "        vertical-align: top;\n",
       "    }\n",
       "\n",
       "    .dataframe thead th {\n",
       "        text-align: right;\n",
       "    }\n",
       "</style>\n",
       "<table border=\"1\" class=\"dataframe\">\n",
       "  <thead>\n",
       "    <tr style=\"text-align: right;\">\n",
       "      <th></th>\n",
       "      <th>HP</th>\n",
       "      <th>Attack</th>\n",
       "      <th>Defense</th>\n",
       "      <th>SpAtk</th>\n",
       "      <th>SpDef</th>\n",
       "      <th>Speed</th>\n",
       "    </tr>\n",
       "  </thead>\n",
       "  <tbody>\n",
       "    <tr>\n",
       "      <th>count</th>\n",
       "      <td>800.000</td>\n",
       "      <td>800.000</td>\n",
       "      <td>800.000</td>\n",
       "      <td>800.000</td>\n",
       "      <td>800.000</td>\n",
       "      <td>800.000</td>\n",
       "    </tr>\n",
       "    <tr>\n",
       "      <th>mean</th>\n",
       "      <td>-0.000</td>\n",
       "      <td>0.000</td>\n",
       "      <td>-0.000</td>\n",
       "      <td>0.000</td>\n",
       "      <td>-0.000</td>\n",
       "      <td>-0.000</td>\n",
       "    </tr>\n",
       "    <tr>\n",
       "      <th>std</th>\n",
       "      <td>1.001</td>\n",
       "      <td>1.001</td>\n",
       "      <td>1.001</td>\n",
       "      <td>1.001</td>\n",
       "      <td>1.001</td>\n",
       "      <td>1.001</td>\n",
       "    </tr>\n",
       "    <tr>\n",
       "      <th>min</th>\n",
       "      <td>-2.675</td>\n",
       "      <td>-2.281</td>\n",
       "      <td>-2.209</td>\n",
       "      <td>-1.921</td>\n",
       "      <td>-1.866</td>\n",
       "      <td>-2.179</td>\n",
       "    </tr>\n",
       "    <tr>\n",
       "      <th>25%</th>\n",
       "      <td>-0.755</td>\n",
       "      <td>-0.740</td>\n",
       "      <td>-0.765</td>\n",
       "      <td>-0.705</td>\n",
       "      <td>-0.788</td>\n",
       "      <td>-0.802</td>\n",
       "    </tr>\n",
       "    <tr>\n",
       "      <th>50%</th>\n",
       "      <td>-0.167</td>\n",
       "      <td>-0.123</td>\n",
       "      <td>-0.123</td>\n",
       "      <td>-0.239</td>\n",
       "      <td>-0.068</td>\n",
       "      <td>-0.113</td>\n",
       "    </tr>\n",
       "    <tr>\n",
       "      <th>75%</th>\n",
       "      <td>0.421</td>\n",
       "      <td>0.647</td>\n",
       "      <td>0.518</td>\n",
       "      <td>0.678</td>\n",
       "      <td>0.651</td>\n",
       "      <td>0.748</td>\n",
       "    </tr>\n",
       "    <tr>\n",
       "      <th>max</th>\n",
       "      <td>7.279</td>\n",
       "      <td>3.422</td>\n",
       "      <td>5.011</td>\n",
       "      <td>3.706</td>\n",
       "      <td>5.685</td>\n",
       "      <td>3.847</td>\n",
       "    </tr>\n",
       "  </tbody>\n",
       "</table>\n",
       "</div>"
      ],
      "text/plain": [
       "            HP   Attack  Defense    SpAtk    SpDef    Speed\n",
       "count  800.000  800.000  800.000  800.000  800.000  800.000\n",
       "mean    -0.000    0.000   -0.000    0.000   -0.000   -0.000\n",
       "std      1.001    1.001    1.001    1.001    1.001    1.001\n",
       "min     -2.675   -2.281   -2.209   -1.921   -1.866   -2.179\n",
       "25%     -0.755   -0.740   -0.765   -0.705   -0.788   -0.802\n",
       "50%     -0.167   -0.123   -0.123   -0.239   -0.068   -0.113\n",
       "75%      0.421    0.647    0.518    0.678    0.651    0.748\n",
       "max      7.279    3.422    5.011    3.706    5.685    3.847"
      ]
     },
     "execution_count": 18,
     "metadata": {},
     "output_type": "execute_result"
    }
   ],
   "source": [
    "# Let's first scale and center the Pokémon features\n",
    "# Note that the .fit_transform() method returns a NumPy array, not a Pandas data frame\n",
    "X_scaled = ss.fit_transform(df_X)\n",
    "\n",
    "# Let's convert that NumPy array back into a data frame with the original columns\n",
    "# (but with centered and scaled data)\n",
    "df_X_scaled = pd.DataFrame(X_scaled, columns=df_X.columns)\n",
    "\n",
    "# Now we can easily get the basic stats for the scaled data\n",
    "# Note the mean and standard deviation for all features\n",
    "print(\"After Standard Scaling:\")\n",
    "df_X_scaled.describe().round(3)"
   ]
  },
  {
   "cell_type": "markdown",
   "id": "9e37a1fb",
   "metadata": {},
   "source": [
    "### Distribution of accuracy using different random seeds for 0.70/0.30 train/test splits "
   ]
  },
  {
   "cell_type": "code",
   "execution_count": 19,
   "id": "9854c896",
   "metadata": {},
   "outputs": [],
   "source": [
    "# Let's use NumPy to create a new random number generator\n",
    "# (Python also has one, but it's more basic)\n",
    "rng = np.random.default_rng(123) # 123 is the seed for our random number generator\n",
    "\n",
    "# Let's generate 1000 seeds to pass to the train/test split function\n",
    "seeds = rng.integers(low=0, high=np.iinfo(np.int32).max, size=1000)\n",
    "\n",
    "# We'll keep our accuracies in this list\n",
    "# This will be a list of tuples, each tuple containing an accuracy and whether\n",
    "# it came from the DT or kNN classifiers\n",
    "acc_rng = []\n",
    "\n",
    "# Let's loop through all seeds\n",
    "for seed in seeds:\n",
    "\n",
    "    # Perform a train/test split with the current seed\n",
    "    X_train, X_test, y_train, y_test = train_test_split(X, y, test_size=0.3, random_state=seed)\n",
    "\n",
    "    # Retrain the decision tree classifier with the training data coming from the new split\n",
    "    # and put it in our accuracy list\n",
    "    dtClf.fit(X_train, y_train)\n",
    "\n",
    "    # Get the accuracy of the retrained decision tree for the test data coming from the new split\n",
    "    acc_rng.append((dtClf.score(X_test, y_test), \"DT\"))\n",
    "\n",
    "    # Retrain the kNN classifier with the training data coming from the new split\n",
    "    knnClf.fit(X_train, y_train)\n",
    "\n",
    "    # Get the accuracy of the retrained kNN for the test data coming from the new split\n",
    "    # and put it in our accuracy list\n",
    "    acc_rng.append((knnClf.score(X_test, y_test), \"kNN\"))\n",
    "\n",
    "# We can now easily convert our list of tuples into a data frame\n",
    "df_acc_rng = pd.DataFrame(acc_rng, columns=[\"Accuracy\", \"Model\"])"
   ]
  },
  {
   "cell_type": "code",
   "execution_count": 20,
   "id": "375abcf9",
   "metadata": {},
   "outputs": [
    {
     "data": {
      "application/vnd.microsoft.datawrangler.viewer.v0+json": {
       "columns": [
        {
         "name": "Model",
         "rawType": "object",
         "type": "string"
        },
        {
         "name": "('Accuracy', 'count')",
         "rawType": "float64",
         "type": "float"
        },
        {
         "name": "('Accuracy', 'mean')",
         "rawType": "float64",
         "type": "float"
        },
        {
         "name": "('Accuracy', 'std')",
         "rawType": "float64",
         "type": "float"
        },
        {
         "name": "('Accuracy', 'min')",
         "rawType": "float64",
         "type": "float"
        },
        {
         "name": "('Accuracy', '25%')",
         "rawType": "float64",
         "type": "float"
        },
        {
         "name": "('Accuracy', '50%')",
         "rawType": "float64",
         "type": "float"
        },
        {
         "name": "('Accuracy', '75%')",
         "rawType": "float64",
         "type": "float"
        },
        {
         "name": "('Accuracy', 'max')",
         "rawType": "float64",
         "type": "float"
        }
       ],
       "ref": "8df583fe-9824-4173-b523-8b5743a6c83c",
       "rows": [
        [
         "DT",
         "1000.0",
         "0.93",
         "0.014",
         "0.871",
         "0.921",
         "0.929",
         "0.942",
         "0.971"
        ],
        [
         "kNN",
         "1000.0",
         "0.939",
         "0.014",
         "0.888",
         "0.929",
         "0.942",
         "0.95",
         "0.979"
        ]
       ],
       "shape": {
        "columns": 8,
        "rows": 2
       }
      },
      "text/html": [
       "<div>\n",
       "<style scoped>\n",
       "    .dataframe tbody tr th:only-of-type {\n",
       "        vertical-align: middle;\n",
       "    }\n",
       "\n",
       "    .dataframe tbody tr th {\n",
       "        vertical-align: top;\n",
       "    }\n",
       "\n",
       "    .dataframe thead tr th {\n",
       "        text-align: left;\n",
       "    }\n",
       "\n",
       "    .dataframe thead tr:last-of-type th {\n",
       "        text-align: right;\n",
       "    }\n",
       "</style>\n",
       "<table border=\"1\" class=\"dataframe\">\n",
       "  <thead>\n",
       "    <tr>\n",
       "      <th></th>\n",
       "      <th colspan=\"8\" halign=\"left\">Accuracy</th>\n",
       "    </tr>\n",
       "    <tr>\n",
       "      <th></th>\n",
       "      <th>count</th>\n",
       "      <th>mean</th>\n",
       "      <th>std</th>\n",
       "      <th>min</th>\n",
       "      <th>25%</th>\n",
       "      <th>50%</th>\n",
       "      <th>75%</th>\n",
       "      <th>max</th>\n",
       "    </tr>\n",
       "    <tr>\n",
       "      <th>Model</th>\n",
       "      <th></th>\n",
       "      <th></th>\n",
       "      <th></th>\n",
       "      <th></th>\n",
       "      <th></th>\n",
       "      <th></th>\n",
       "      <th></th>\n",
       "      <th></th>\n",
       "    </tr>\n",
       "  </thead>\n",
       "  <tbody>\n",
       "    <tr>\n",
       "      <th>DT</th>\n",
       "      <td>1000.0</td>\n",
       "      <td>0.930</td>\n",
       "      <td>0.014</td>\n",
       "      <td>0.871</td>\n",
       "      <td>0.921</td>\n",
       "      <td>0.929</td>\n",
       "      <td>0.942</td>\n",
       "      <td>0.971</td>\n",
       "    </tr>\n",
       "    <tr>\n",
       "      <th>kNN</th>\n",
       "      <td>1000.0</td>\n",
       "      <td>0.939</td>\n",
       "      <td>0.014</td>\n",
       "      <td>0.888</td>\n",
       "      <td>0.929</td>\n",
       "      <td>0.942</td>\n",
       "      <td>0.950</td>\n",
       "      <td>0.979</td>\n",
       "    </tr>\n",
       "  </tbody>\n",
       "</table>\n",
       "</div>"
      ],
      "text/plain": [
       "      Accuracy                                                 \n",
       "         count   mean    std    min    25%    50%    75%    max\n",
       "Model                                                          \n",
       "DT      1000.0  0.930  0.014  0.871  0.921  0.929  0.942  0.971\n",
       "kNN     1000.0  0.939  0.014  0.888  0.929  0.942  0.950  0.979"
      ]
     },
     "execution_count": 20,
     "metadata": {},
     "output_type": "execute_result"
    }
   ],
   "source": [
    "# Let's check out the basic stats for the accuracy of both classifiers\n",
    "df_acc_rng.groupby(\"Model\").describe().round(3)"
   ]
  },
  {
   "cell_type": "code",
   "execution_count": 21,
   "id": "bd15d375",
   "metadata": {},
   "outputs": [
    {
     "data": {
      "image/png": "[encoded data removed]",
      "text/plain": [
       "<Figure size 640x480 with 1 Axes>"
      ]
     },
     "metadata": {},
     "output_type": "display_data"
    }
   ],
   "source": [
    "# Let's plot the distribution of the accuracies for both models using an histogram\n",
    "# The kde parameter allows us to have a better idea of the continuous distribution\n",
    "sns.histplot(df_acc_rng, x=\"Accuracy\", hue=\"Model\", multiple=\"dodge\", kde=True);"
   ]
  },
  {
   "cell_type": "code",
   "execution_count": 22,
   "id": "fbcddc47",
   "metadata": {},
   "outputs": [
    {
     "data": {
      "image/png": "[encoded data removed]",
      "text/plain": [
       "<Figure size 640x480 with 1 Axes>"
      ]
     },
     "metadata": {},
     "output_type": "display_data"
    }
   ],
   "source": [
    "# And now the box plot\n",
    "# Can you look at the histogram and the box plot and understand how they both\n",
    "# depict the accuracy distribution in different ways?\n",
    "sns.boxplot(df_acc_rng, x=\"Model\", y=\"Accuracy\", hue=\"Model\");"
   ]
  },
  {
   "cell_type": "markdown",
   "id": "e4e38ef3",
   "metadata": {},
   "source": [
    "## Extra: impact of train/test split on model accuracy"
   ]
  },
  {
   "cell_type": "code",
   "execution_count": 33,
   "id": "7e22c34e",
   "metadata": {},
   "outputs": [],
   "source": [
    "# We'll keep our accuracies and respective test split and model in this list\n",
    "acc_split = []\n",
    "\n",
    "# Get an array of test splits between 0.1/0.9, incrementing 0.001 each time\n",
    "# (a total of 800 test split values)\n",
    "test_splits = np.arange(0.1, 0.9, 0.001)\n",
    "\n",
    "# The np.arange() function does not always round things perfectly, so let's make\n",
    "# sure we have things rounded to 3 decimal places\n",
    "# Comment the line below to see what changes in the df_pivot data frame in the\n",
    "# next cell\n",
    "test_splits = np.round(test_splits, 3)\n",
    "\n",
    "# Loop through our test splits\n",
    "for test_split in test_splits:\n",
    "\n",
    "    # For each test split value, we'll split the data 10 different ways with\n",
    "    # these 10 different random seeds\n",
    "    for seed in [0, 10, 440, 543534, 234, 23455, 874, 9245, 145, 732343]:\n",
    "\n",
    "        # Do the current split\n",
    "        X_train, X_test, y_train, y_test = train_test_split(X, y, test_size=test_split, random_state=seed)\n",
    "\n",
    "        # Train the decision tree classifier with the current split\n",
    "        dtClf.fit(X_train, y_train)\n",
    "\n",
    "        # Get the accuracy of the decision tree classifier on the current test\n",
    "        # data and put it in our list (together with the split value and model)\n",
    "        acc_split.append((dtClf.score(X_test, y_test), test_split, \"DT\"))\n",
    "\n",
    "        # Train the k-nearest neighbors classifier with the current split\n",
    "        knnClf.fit(X_train, y_train)\n",
    "\n",
    "        # Get the accuracy of the k-nearest neighbors classifier on the current test\n",
    "        # data and put it in our list (together with the split value and model)\n",
    "        acc_split.append((knnClf.score(X_test, y_test), test_split, \"kNN\"))\n",
    "\n",
    "# Create a data frame with the data on our list (accuracy, test split proportion, and model)\n",
    "df_acc_split = pd.DataFrame(acc_split, columns=[\"Accuracy\", \"TestSplit\", \"Model\"])"
   ]
  },
  {
   "cell_type": "code",
   "execution_count": 38,
   "id": "7d475367",
   "metadata": {},
   "outputs": [
    {
     "data": {
      "application/vnd.microsoft.datawrangler.viewer.v0+json": {
       "columns": [
        {
         "name": "TestSplit",
         "rawType": "float64",
         "type": "float"
        },
        {
         "name": "DT",
         "rawType": "float64",
         "type": "float"
        },
        {
         "name": "kNN",
         "rawType": "float64",
         "type": "float"
        }
       ],
       "ref": "f4237654-2d57-40e3-9a46-03bb570d8795",
       "rows": [
        [
         "0.1",
         "0.9325",
         "0.94125"
        ],
        [
         "0.101",
         "0.933333",
         "0.941975"
        ],
        [
         "0.102",
         "0.934146",
         "0.941463"
        ],
        [
         "0.103",
         "0.933735",
         "0.942169"
        ],
        [
         "0.104",
         "0.929762",
         "0.941667"
        ],
        [
         "0.105",
         "0.929762",
         "0.941667"
        ],
        [
         "0.106",
         "0.929412",
         "0.942353"
        ],
        [
         "0.107",
         "0.930233",
         "0.94186"
        ],
        [
         "0.108",
         "0.929885",
         "0.942529"
        ],
        [
         "0.109",
         "0.929545",
         "0.943182"
        ]
       ],
       "shape": {
        "columns": 2,
        "rows": 10
       }
      },
      "text/html": [
       "<div>\n",
       "<style scoped>\n",
       "    .dataframe tbody tr th:only-of-type {\n",
       "        vertical-align: middle;\n",
       "    }\n",
       "\n",
       "    .dataframe tbody tr th {\n",
       "        vertical-align: top;\n",
       "    }\n",
       "\n",
       "    .dataframe thead th {\n",
       "        text-align: right;\n",
       "    }\n",
       "</style>\n",
       "<table border=\"1\" class=\"dataframe\">\n",
       "  <thead>\n",
       "    <tr style=\"text-align: right;\">\n",
       "      <th>Model</th>\n",
       "      <th>DT</th>\n",
       "      <th>kNN</th>\n",
       "    </tr>\n",
       "    <tr>\n",
       "      <th>TestSplit</th>\n",
       "      <th></th>\n",
       "      <th></th>\n",
       "    </tr>\n",
       "  </thead>\n",
       "  <tbody>\n",
       "    <tr>\n",
       "      <th>0.100</th>\n",
       "      <td>0.932500</td>\n",
       "      <td>0.941250</td>\n",
       "    </tr>\n",
       "    <tr>\n",
       "      <th>0.101</th>\n",
       "      <td>0.933333</td>\n",
       "      <td>0.941975</td>\n",
       "    </tr>\n",
       "    <tr>\n",
       "      <th>0.102</th>\n",
       "      <td>0.934146</td>\n",
       "      <td>0.941463</td>\n",
       "    </tr>\n",
       "    <tr>\n",
       "      <th>0.103</th>\n",
       "      <td>0.933735</td>\n",
       "      <td>0.942169</td>\n",
       "    </tr>\n",
       "    <tr>\n",
       "      <th>0.104</th>\n",
       "      <td>0.929762</td>\n",
       "      <td>0.941667</td>\n",
       "    </tr>\n",
       "    <tr>\n",
       "      <th>0.105</th>\n",
       "      <td>0.929762</td>\n",
       "      <td>0.941667</td>\n",
       "    </tr>\n",
       "    <tr>\n",
       "      <th>0.106</th>\n",
       "      <td>0.929412</td>\n",
       "      <td>0.942353</td>\n",
       "    </tr>\n",
       "    <tr>\n",
       "      <th>0.107</th>\n",
       "      <td>0.930233</td>\n",
       "      <td>0.941860</td>\n",
       "    </tr>\n",
       "    <tr>\n",
       "      <th>0.108</th>\n",
       "      <td>0.929885</td>\n",
       "      <td>0.942529</td>\n",
       "    </tr>\n",
       "    <tr>\n",
       "      <th>0.109</th>\n",
       "      <td>0.929545</td>\n",
       "      <td>0.943182</td>\n",
       "    </tr>\n",
       "  </tbody>\n",
       "</table>\n",
       "</div>"
      ],
      "text/plain": [
       "Model            DT       kNN\n",
       "TestSplit                    \n",
       "0.100      0.932500  0.941250\n",
       "0.101      0.933333  0.941975\n",
       "0.102      0.934146  0.941463\n",
       "0.103      0.933735  0.942169\n",
       "0.104      0.929762  0.941667\n",
       "0.105      0.929762  0.941667\n",
       "0.106      0.929412  0.942353\n",
       "0.107      0.930233  0.941860\n",
       "0.108      0.929885  0.942529\n",
       "0.109      0.929545  0.943182"
      ]
     },
     "execution_count": 38,
     "metadata": {},
     "output_type": "execute_result"
    }
   ],
   "source": [
    "# Let's get the mean accuracy (over 10 seeds) for each test split-model combination\n",
    "df_mean = df_acc_split.groupby([\"TestSplit\", \"Model\"])[\"Accuracy\"].mean().reset_index()\n",
    "\n",
    "# Let's rearrange the data frame so that the test split is the unique index,\n",
    "# with each model having its own column, with values for each being the\n",
    "# accuracy\n",
    "df_pivot = df_mean.pivot(index=\"TestSplit\", columns=\"Model\", values=\"Accuracy\")\n",
    "\n",
    "# Take a look at the pivot data frame, so we can check that it has the data in\n",
    "# the format we want\n",
    "df_pivot.head(10).round(6)"
   ]
  },
  {
   "cell_type": "code",
   "execution_count": null,
   "id": "62da56ab",
   "metadata": {},
   "outputs": [
    {
     "data": {
      "text/plain": [
       "Text(0, 0.5, 'Mean accuracy for 10 random seeds')"
      ]
     },
     "execution_count": 35,
     "metadata": {},
     "output_type": "execute_result"
    },
    {
     "data": {
      "image/png": "[encoded data removed]",
      "text/plain": [
       "<Figure size 640x480 with 1 Axes>"
      ]
     },
     "metadata": {},
     "output_type": "display_data"
    }
   ],
   "source": [
    "# Data frames have a plot() method that can sometimes be useful... this is one\n",
    "# of those times\n",
    "ax = df_pivot.plot()\n",
    "\n",
    "# Customize the returned axes a little bit\n",
    "ax.set_xlabel(\"Test split\")\n",
    "ax.set_ylabel(\"Mean accuracy for 10 random seeds\")"
   ]
  },
  {
   "cell_type": "markdown",
   "id": "3a9a83be",
   "metadata": {},
   "source": [
    "For this particular case, the Pokémon dataset, the $k$-Nearest Neighbors\n",
    "classifier has higher accuracy the Decision Tree classifier over.\n",
    "\n",
    "While the accuracy for $k$NN peaks at about $0.2$ (80% train, 20%\n",
    "test split), the top accuracy for DT happens at about $0.45$. In practice, if\n",
    "you look at the $y$-axis scale, accuracy doesn't change much between the $0.10$\n",
    "and $0.45$ split interval."
   ]
  }
 ],
 "metadata": {
  "kernelspec": {
   "display_name": "env",
   "language": "python",
   "name": "python3"
  },
  "language_info": {
   "codemirror_mode": {
    "name": "ipython",
    "version": 3
   },
   "file_extension": ".py",
   "mimetype": "text/x-python",
   "name": "python",
   "nbconvert_exporter": "python",
   "pygments_lexer": "ipython3",
   "version": "3.12.3"
  }
 },
 "nbformat": 4,
 "nbformat_minor": 5
}
